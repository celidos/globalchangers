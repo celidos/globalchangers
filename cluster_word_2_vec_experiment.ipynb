{
 "cells": [
  {
   "cell_type": "code",
   "execution_count": 1,
   "metadata": {
    "collapsed": true
   },
   "outputs": [],
   "source": [
    "import numpy as np\n",
    "import pandas as pd\n",
    "import matplotlib.pyplot as plt\n",
    "%matplotlib inline"
   ]
  },
  {
   "cell_type": "code",
   "execution_count": 2,
   "metadata": {
    "collapsed": true
   },
   "outputs": [],
   "source": [
    "cluster_data = pd.read_csv('cluster_data.csv')"
   ]
  },
  {
   "cell_type": "code",
   "execution_count": 3,
   "metadata": {},
   "outputs": [
    {
     "data": {
      "text/html": [
       "<div>\n",
       "<style>\n",
       "    .dataframe thead tr:only-child th {\n",
       "        text-align: right;\n",
       "    }\n",
       "\n",
       "    .dataframe thead th {\n",
       "        text-align: left;\n",
       "    }\n",
       "\n",
       "    .dataframe tbody tr th {\n",
       "        vertical-align: top;\n",
       "    }\n",
       "</style>\n",
       "<table border=\"1\" class=\"dataframe\">\n",
       "  <thead>\n",
       "    <tr style=\"text-align: right;\">\n",
       "      <th></th>\n",
       "      <th>title</th>\n",
       "      <th>n_grams</th>\n",
       "      <th>путин</th>\n",
       "      <th>медведев</th>\n",
       "      <th>гейропа</th>\n",
       "      <th>доллар</th>\n",
       "      <th>евро</th>\n",
       "      <th>кризис</th>\n",
       "    </tr>\n",
       "  </thead>\n",
       "  <tbody>\n",
       "    <tr>\n",
       "      <th>0</th>\n",
       "      <td>Кузбасс говно</td>\n",
       "      <td>экономический_кризис</td>\n",
       "      <td>0.0001</td>\n",
       "      <td>0.0001</td>\n",
       "      <td>0.0001</td>\n",
       "      <td>0.0001</td>\n",
       "      <td>0.0001</td>\n",
       "      <td>0.0001</td>\n",
       "    </tr>\n",
       "  </tbody>\n",
       "</table>\n",
       "</div>"
      ],
      "text/plain": [
       "           title               n_grams   путин  медведев  гейропа  доллар  \\\n",
       "0  Кузбасс говно  экономический_кризис  0.0001    0.0001   0.0001  0.0001   \n",
       "\n",
       "     евро  кризис  \n",
       "0  0.0001  0.0001  "
      ]
     },
     "execution_count": 3,
     "metadata": {},
     "output_type": "execute_result"
    }
   ],
   "source": [
    "cluster_data.head()"
   ]
  },
  {
   "cell_type": "markdown",
   "metadata": {},
   "source": [
    "# Тестим кластеризацию"
   ]
  },
  {
   "cell_type": "code",
   "execution_count": 4,
   "metadata": {
    "collapsed": true
   },
   "outputs": [],
   "source": [
    "import sklearn"
   ]
  },
  {
   "cell_type": "code",
   "execution_count": 5,
   "metadata": {
    "collapsed": true
   },
   "outputs": [],
   "source": [
    "from sklearn.cluster import DBSCAN\n",
    "from sklearn import metrics\n",
    "from sklearn.datasets.samples_generator import make_blobs\n",
    "from sklearn.preprocessing import StandardScaler"
   ]
  },
  {
   "cell_type": "markdown",
   "metadata": {},
   "source": [
    "# bubbles"
   ]
  },
  {
   "cell_type": "code",
   "execution_count": 6,
   "metadata": {
    "collapsed": true
   },
   "outputs": [],
   "source": [
    "centers = [[1, 1], [-1, -1], [1, -1]]\n",
    "X, labels_true = make_blobs(n_samples=750, centers=centers, cluster_std=0.4,\n",
    "                            random_state=0)\n",
    "\n",
    "X = StandardScaler().fit_transform(X)"
   ]
  },
  {
   "cell_type": "markdown",
   "metadata": {},
   "source": [
    "# small_sample"
   ]
  },
  {
   "cell_type": "code",
   "execution_count": 19,
   "metadata": {},
   "outputs": [
    {
     "data": {
      "text/html": [
       "<div>\n",
       "<style>\n",
       "    .dataframe thead tr:only-child th {\n",
       "        text-align: right;\n",
       "    }\n",
       "\n",
       "    .dataframe thead th {\n",
       "        text-align: left;\n",
       "    }\n",
       "\n",
       "    .dataframe tbody tr th {\n",
       "        vertical-align: top;\n",
       "    }\n",
       "</style>\n",
       "<table border=\"1\" class=\"dataframe\">\n",
       "  <thead>\n",
       "    <tr style=\"text-align: right;\">\n",
       "      <th></th>\n",
       "      <th>ID</th>\n",
       "      <th>id</th>\n",
       "      <th>n_grams</th>\n",
       "      <th>topic_label</th>\n",
       "      <th>екатеринбург</th>\n",
       "      <th>знаменка</th>\n",
       "      <th>посвященный</th>\n",
       "      <th>свердловский</th>\n",
       "      <th>состоится</th>\n",
       "      <th>ао</th>\n",
       "      <th>...</th>\n",
       "      <th>царь</th>\n",
       "      <th>2014-2016</th>\n",
       "      <th>водохранилище</th>\n",
       "      <th>ириклинский</th>\n",
       "      <th>молодь</th>\n",
       "      <th>оренбургский</th>\n",
       "      <th>гривна</th>\n",
       "      <th>заказывает</th>\n",
       "      <th>каталог</th>\n",
       "      <th>одежда</th>\n",
       "    </tr>\n",
       "  </thead>\n",
       "  <tbody>\n",
       "    <tr>\n",
       "      <th>0</th>\n",
       "      <td>0</td>\n",
       "      <td>2014719.0</td>\n",
       "      <td>территория_регион заместитель_министр свердлов...</td>\n",
       "      <td>1 августа в Свердловской области ожидаются сле...</td>\n",
       "      <td>0.269231</td>\n",
       "      <td>0.153846</td>\n",
       "      <td>0.153846</td>\n",
       "      <td>0.192308</td>\n",
       "      <td>0.230769</td>\n",
       "      <td>0.000000</td>\n",
       "      <td>...</td>\n",
       "      <td>0.0</td>\n",
       "      <td>0.0</td>\n",
       "      <td>0.0</td>\n",
       "      <td>0.0</td>\n",
       "      <td>0.0</td>\n",
       "      <td>0.0</td>\n",
       "      <td>0.0</td>\n",
       "      <td>0.0</td>\n",
       "      <td>0.0</td>\n",
       "      <td>0.0</td>\n",
       "    </tr>\n",
       "    <tr>\n",
       "      <th>1</th>\n",
       "      <td>1</td>\n",
       "      <td>2014720.0</td>\n",
       "      <td>номер_журнал сведение_относительно программа_с...</td>\n",
       "      <td>Су-57: официальное наименование серийного вари...</td>\n",
       "      <td>0.000000</td>\n",
       "      <td>0.000000</td>\n",
       "      <td>0.000000</td>\n",
       "      <td>0.000000</td>\n",
       "      <td>0.000000</td>\n",
       "      <td>0.016611</td>\n",
       "      <td>...</td>\n",
       "      <td>0.0</td>\n",
       "      <td>0.0</td>\n",
       "      <td>0.0</td>\n",
       "      <td>0.0</td>\n",
       "      <td>0.0</td>\n",
       "      <td>0.0</td>\n",
       "      <td>0.0</td>\n",
       "      <td>0.0</td>\n",
       "      <td>0.0</td>\n",
       "      <td>0.0</td>\n",
       "    </tr>\n",
       "    <tr>\n",
       "      <th>2</th>\n",
       "      <td>2</td>\n",
       "      <td>157636.0</td>\n",
       "      <td>участник_форум</td>\n",
       "      <td>Псориаз: Определение</td>\n",
       "      <td>0.000000</td>\n",
       "      <td>0.000000</td>\n",
       "      <td>0.000000</td>\n",
       "      <td>0.000000</td>\n",
       "      <td>0.000000</td>\n",
       "      <td>0.000000</td>\n",
       "      <td>...</td>\n",
       "      <td>0.0</td>\n",
       "      <td>0.0</td>\n",
       "      <td>0.0</td>\n",
       "      <td>0.0</td>\n",
       "      <td>0.0</td>\n",
       "      <td>0.0</td>\n",
       "      <td>0.0</td>\n",
       "      <td>0.0</td>\n",
       "      <td>0.0</td>\n",
       "      <td>0.0</td>\n",
       "    </tr>\n",
       "    <tr>\n",
       "      <th>3</th>\n",
       "      <td>3</td>\n",
       "      <td>157282.0</td>\n",
       "      <td>житель_земля солнечный_затмение солнечный_затм...</td>\n",
       "      <td>Эксперты посчитали счастливых россиян в стране</td>\n",
       "      <td>0.000000</td>\n",
       "      <td>0.000000</td>\n",
       "      <td>0.000000</td>\n",
       "      <td>0.000000</td>\n",
       "      <td>0.000000</td>\n",
       "      <td>0.000000</td>\n",
       "      <td>...</td>\n",
       "      <td>0.0</td>\n",
       "      <td>0.0</td>\n",
       "      <td>0.0</td>\n",
       "      <td>0.0</td>\n",
       "      <td>0.0</td>\n",
       "      <td>0.0</td>\n",
       "      <td>0.0</td>\n",
       "      <td>0.0</td>\n",
       "      <td>0.0</td>\n",
       "      <td>0.0</td>\n",
       "    </tr>\n",
       "    <tr>\n",
       "      <th>4</th>\n",
       "      <td>4</td>\n",
       "      <td>82203426.0</td>\n",
       "      <td>дальний_восток электронный_виза включая_япония...</td>\n",
       "      <td>Россия открыла выдачу электронных виз</td>\n",
       "      <td>0.000000</td>\n",
       "      <td>0.000000</td>\n",
       "      <td>0.000000</td>\n",
       "      <td>0.000000</td>\n",
       "      <td>0.000000</td>\n",
       "      <td>0.000000</td>\n",
       "      <td>...</td>\n",
       "      <td>0.0</td>\n",
       "      <td>0.0</td>\n",
       "      <td>0.0</td>\n",
       "      <td>0.0</td>\n",
       "      <td>0.0</td>\n",
       "      <td>0.0</td>\n",
       "      <td>0.0</td>\n",
       "      <td>0.0</td>\n",
       "      <td>0.0</td>\n",
       "      <td>0.0</td>\n",
       "    </tr>\n",
       "  </tbody>\n",
       "</table>\n",
       "<p>5 rows × 2490 columns</p>\n",
       "</div>"
      ],
      "text/plain": [
       "   ID          id                                            n_grams  \\\n",
       "0   0   2014719.0  территория_регион заместитель_министр свердлов...   \n",
       "1   1   2014720.0  номер_журнал сведение_относительно программа_с...   \n",
       "2   2    157636.0                                     участник_форум   \n",
       "3   3    157282.0  житель_земля солнечный_затмение солнечный_затм...   \n",
       "4   4  82203426.0  дальний_восток электронный_виза включая_япония...   \n",
       "\n",
       "                                         topic_label  екатеринбург  знаменка  \\\n",
       "0  1 августа в Свердловской области ожидаются сле...      0.269231  0.153846   \n",
       "1  Су-57: официальное наименование серийного вари...      0.000000  0.000000   \n",
       "2                               Псориаз: Определение      0.000000  0.000000   \n",
       "3     Эксперты посчитали счастливых россиян в стране      0.000000  0.000000   \n",
       "4              Россия открыла выдачу электронных виз      0.000000  0.000000   \n",
       "\n",
       "   посвященный  свердловский  состоится        ао   ...    царь  2014-2016  \\\n",
       "0     0.153846      0.192308   0.230769  0.000000   ...     0.0        0.0   \n",
       "1     0.000000      0.000000   0.000000  0.016611   ...     0.0        0.0   \n",
       "2     0.000000      0.000000   0.000000  0.000000   ...     0.0        0.0   \n",
       "3     0.000000      0.000000   0.000000  0.000000   ...     0.0        0.0   \n",
       "4     0.000000      0.000000   0.000000  0.000000   ...     0.0        0.0   \n",
       "\n",
       "   водохранилище  ириклинский  молодь  оренбургский  гривна  заказывает  \\\n",
       "0            0.0          0.0     0.0           0.0     0.0         0.0   \n",
       "1            0.0          0.0     0.0           0.0     0.0         0.0   \n",
       "2            0.0          0.0     0.0           0.0     0.0         0.0   \n",
       "3            0.0          0.0     0.0           0.0     0.0         0.0   \n",
       "4            0.0          0.0     0.0           0.0     0.0         0.0   \n",
       "\n",
       "   каталог  одежда  \n",
       "0      0.0     0.0  \n",
       "1      0.0     0.0  \n",
       "2      0.0     0.0  \n",
       "3      0.0     0.0  \n",
       "4      0.0     0.0  \n",
       "\n",
       "[5 rows x 2490 columns]"
      ]
     },
     "execution_count": 19,
     "metadata": {},
     "output_type": "execute_result"
    }
   ],
   "source": [
    "small_sample = pd.read_csv('lvl3_words_limit4.csv')\n",
    "small_sample.fillna(0, inplace=True)\n",
    "small_sample.head()"
   ]
  },
  {
   "cell_type": "code",
   "execution_count": 8,
   "metadata": {
    "collapsed": true
   },
   "outputs": [],
   "source": [
    "X = small_sample.drop(['ID', 'id', 'n_grams', 'topic_label'], axis=1)"
   ]
  },
  {
   "cell_type": "markdown",
   "metadata": {},
   "source": [
    "# DBSCAN Clustering"
   ]
  },
  {
   "cell_type": "code",
   "execution_count": 49,
   "metadata": {},
   "outputs": [
    {
     "name": "stdout",
     "output_type": "stream",
     "text": [
      "88\n"
     ]
    }
   ],
   "source": [
    "db = DBSCAN(eps=0.3, min_samples=1).fit(X)\n",
    "labels = db.labels_\n",
    "\n",
    "# Number of clusters in labels, ignoring noise if present.\n",
    "n_clusters_ = len(set(labels)) - (1 if -1 in labels else 0)\n",
    "print(n_clusters_)\n"
   ]
  },
  {
   "cell_type": "code",
   "execution_count": 50,
   "metadata": {},
   "outputs": [
    {
     "name": "stdout",
     "output_type": "stream",
     "text": [
      "[ 0  1  2  1  3  4  5  1  1  1  1  1  1  6  1  1  7  1  8  9  1  1 10  1  1\n",
      "  1 11  1 12 13 14  1 15 16 17 18 19 20 21 22  1  1 23 24  1  1 25  1 26 27\n",
      "  1 28 29  1 30  1 31  1  1  1 32 33 34 35  1  1 36  1  1 37  1  1  1  1  1\n",
      " 38  1  1 39 40 41  1 42  3  1  1  1  1  1 43 44  1 45  1  1 46  1 16  1 47\n",
      "  1  1 48  1  1  1 49 50  8  1 51 52 53 54 55 56 56  1  1  1 57 58 59  1 60\n",
      " 61 36  1  1 62 63  1  1  1 64  1 65 16  1  1  1  1  1  1 66  1  1  1 67  1\n",
      " 68  1  1  1  1 69  1  1 70  1  1  1  1  1 71  1 72 73  1  1 74  1 75  1 76\n",
      " 77  1  1  1  1 78  1  1 79 79  1  1  1  1 80 81 82 83 83  1  1 84 84 85  1\n",
      "  1 86 87]\n"
     ]
    }
   ],
   "source": [
    "print(labels)"
   ]
  },
  {
   "cell_type": "markdown",
   "metadata": {},
   "source": [
    "# hierarchial clustering\n"
   ]
  },
  {
   "cell_type": "code",
   "execution_count": 10,
   "metadata": {
    "collapsed": true
   },
   "outputs": [],
   "source": [
    "from matplotlib import pyplot as plt\n",
    "from scipy.cluster.hierarchy import dendrogram, linkage\n",
    "Z = linkage(X, 'ward')"
   ]
  },
  {
   "cell_type": "code",
   "execution_count": 11,
   "metadata": {
    "collapsed": true
   },
   "outputs": [],
   "source": [
    "from scipy.cluster.hierarchy import cophenet\n",
    "from scipy.spatial.distance import pdist"
   ]
  },
  {
   "cell_type": "code",
   "execution_count": 12,
   "metadata": {},
   "outputs": [
    {
     "data": {
      "image/png": "[encoded data removed]",
      "text/plain": [
       "<matplotlib.figure.Figure at 0x7f4958245cf8>"
      ]
     },
     "metadata": {},
     "output_type": "display_data"
    }
   ],
   "source": [
    "plt.figure(figsize=(25, 10))\n",
    "plt.title('Hierarchical Clustering Dendrogram')\n",
    "plt.xlabel('sample index')\n",
    "plt.ylabel('distance')\n",
    "dendrogram(\n",
    "    Z,\n",
    "    leaf_rotation=90.,  # rotates the x axis labels\n",
    "    leaf_font_size=8.,  # font size for the x axis labels\n",
    ")\n",
    "plt.show()"
   ]
  },
  {
   "cell_type": "code",
   "execution_count": 13,
   "metadata": {},
   "outputs": [
    {
     "data": {
      "text/plain": [
       "['Курганские полицейские посмотрели на купающихся горожан',\n",
       " 'Черновицкие депутаты против лишения Саакашвили гражданства',\n",
       " 'В Магадане полицейские раскрыли грабёж',\n",
       " 'Курганские полицейские посмотрели на купающихся горожан',\n",
       " 'В Магадане полицейские раскрыли грабёж',\n",
       " 'Приморье полностью оправилось от июльских ливней',\n",
       " 'Приморье полностью оправилось от июльских ливней']"
      ]
     },
     "execution_count": 13,
     "metadata": {},
     "output_type": "execute_result"
    }
   ],
   "source": [
    "llist = [157, 161, 41,70, 154, 151, 152]\n",
    "list(small_sample.iloc[llist]['topic_label'])"
   ]
  },
  {
   "cell_type": "code",
   "execution_count": 14,
   "metadata": {},
   "outputs": [
    {
     "data": {
      "text/plain": [
       "['Facebook отключил искусственный интеллект, создавший собственный язык',\n",
       " 'Амурская область теряет 9 человек в день',\n",
       " 'Facebook отключил ботов, разработавших собственный язык',\n",
       " 'Facebook отключил ботов, разработавших собственный язык',\n",
       " 'Facebook отключил ботов, разработавших собственный язык',\n",
       " 'Facebook отключил чат-ботов, создавших собственный язык',\n",
       " 'Facebook отключил чат-ботов, создавших собственный язык']"
      ]
     },
     "execution_count": 14,
     "metadata": {},
     "output_type": "execute_result"
    }
   ],
   "source": [
    "good_list = [57, 134, 132, 117, 133, 143, 147]\n",
    "list(small_sample.iloc[good_list]['topic_label'])"
   ]
  },
  {
   "cell_type": "code",
   "execution_count": 15,
   "metadata": {},
   "outputs": [
    {
     "data": {
      "text/plain": [
       "['МЧС прогнозирует непогоду в Свердловской области',\n",
       " 'Оперативная обстановка на территории Хабаровского края на 01 августа 2017 г.',\n",
       " 'Украина осуждает попытки узурпировать власть в Венесуэле',\n",
       " 'Украина осуждает попытки узурпировать власть в Венесуэле',\n",
       " 'Украина осуждает попытки узурпировать власть в Венесуэле',\n",
       " 'Украина осуждает попытки узурпировать власть в Венесуэле',\n",
       " 'Украина осуждает попытки узурпировать власть в Венесуэле']"
      ]
     },
     "execution_count": 15,
     "metadata": {},
     "output_type": "execute_result"
    }
   ],
   "source": [
    "good_list2 = [119, 149, 15, 9, 12, 8, 14]\n",
    "list(small_sample.iloc[good_list2]['topic_label'])"
   ]
  },
  {
   "cell_type": "code",
   "execution_count": 16,
   "metadata": {},
   "outputs": [
    {
     "data": {
      "text/html": [
       "<div>\n",
       "<style>\n",
       "    .dataframe thead tr:only-child th {\n",
       "        text-align: right;\n",
       "    }\n",
       "\n",
       "    .dataframe thead th {\n",
       "        text-align: left;\n",
       "    }\n",
       "\n",
       "    .dataframe tbody tr th {\n",
       "        vertical-align: top;\n",
       "    }\n",
       "</style>\n",
       "<table border=\"1\" class=\"dataframe\">\n",
       "  <thead>\n",
       "    <tr style=\"text-align: right;\">\n",
       "      <th></th>\n",
       "      <th>topic_label</th>\n",
       "      <th>id</th>\n",
       "    </tr>\n",
       "  </thead>\n",
       "  <tbody>\n",
       "    <tr>\n",
       "      <th>151</th>\n",
       "      <td>Приморье полностью оправилось от июльских ливней</td>\n",
       "      <td>157669.0</td>\n",
       "    </tr>\n",
       "    <tr>\n",
       "      <th>152</th>\n",
       "      <td>Приморье полностью оправилось от июльских ливней</td>\n",
       "      <td>157669.0</td>\n",
       "    </tr>\n",
       "    <tr>\n",
       "      <th>162</th>\n",
       "      <td>В Челябинске появится новый мусорный полигон</td>\n",
       "      <td>157776.0</td>\n",
       "    </tr>\n",
       "    <tr>\n",
       "      <th>68</th>\n",
       "      <td>Саакашвили анонсировал возвращение на Украину</td>\n",
       "      <td>145948.0</td>\n",
       "    </tr>\n",
       "    <tr>\n",
       "      <th>186</th>\n",
       "      <td>Саакашвили анонсировал возвращение на Украину</td>\n",
       "      <td>145948.0</td>\n",
       "    </tr>\n",
       "    <tr>\n",
       "      <th>31</th>\n",
       "      <td>«Спасибо за гостеприимство!»</td>\n",
       "      <td>157563.0</td>\n",
       "    </tr>\n",
       "    <tr>\n",
       "      <th>157</th>\n",
       "      <td>Курганские полицейские посмотрели на купающихс...</td>\n",
       "      <td>149731.0</td>\n",
       "    </tr>\n",
       "    <tr>\n",
       "      <th>161</th>\n",
       "      <td>Черновицкие депутаты против лишения Саакашвили...</td>\n",
       "      <td>157634.0</td>\n",
       "    </tr>\n",
       "    <tr>\n",
       "      <th>40</th>\n",
       "      <td>Заявление Председателя ЦК КПРФ Г.А. Зюганова</td>\n",
       "      <td>154562.0</td>\n",
       "    </tr>\n",
       "    <tr>\n",
       "      <th>70</th>\n",
       "      <td>Курганские полицейские посмотрели на купающихс...</td>\n",
       "      <td>149731.0</td>\n",
       "    </tr>\n",
       "    <tr>\n",
       "      <th>154</th>\n",
       "      <td>В Магадане полицейские раскрыли грабёж</td>\n",
       "      <td>157589.0</td>\n",
       "    </tr>\n",
       "  </tbody>\n",
       "</table>\n",
       "</div>"
      ],
      "text/plain": [
       "                                           topic_label        id\n",
       "151   Приморье полностью оправилось от июльских ливней  157669.0\n",
       "152   Приморье полностью оправилось от июльских ливней  157669.0\n",
       "162       В Челябинске появится новый мусорный полигон  157776.0\n",
       "68       Саакашвили анонсировал возвращение на Украину  145948.0\n",
       "186      Саакашвили анонсировал возвращение на Украину  145948.0\n",
       "31                        «Спасибо за гостеприимство!»  157563.0\n",
       "157  Курганские полицейские посмотрели на купающихс...  149731.0\n",
       "161  Черновицкие депутаты против лишения Саакашвили...  157634.0\n",
       "40        Заявление Председателя ЦК КПРФ Г.А. Зюганова  154562.0\n",
       "70   Курганские полицейские посмотрели на купающихс...  149731.0\n",
       "154             В Магадане полицейские раскрыли грабёж  157589.0"
      ]
     },
     "execution_count": 16,
     "metadata": {},
     "output_type": "execute_result"
    }
   ],
   "source": [
    "good_list3 = [151, 152, 162, 68, 186, 31, 157, 161, 40, 70, 154]\n",
    "(small_sample[['topic_label', 'id']].iloc[good_list3])"
   ]
  },
  {
   "cell_type": "code",
   "execution_count": 33,
   "metadata": {},
   "outputs": [
    {
     "data": {
      "text/html": [
       "<div>\n",
       "<style>\n",
       "    .dataframe thead tr:only-child th {\n",
       "        text-align: right;\n",
       "    }\n",
       "\n",
       "    .dataframe thead th {\n",
       "        text-align: left;\n",
       "    }\n",
       "\n",
       "    .dataframe tbody tr th {\n",
       "        vertical-align: top;\n",
       "    }\n",
       "</style>\n",
       "<table border=\"1\" class=\"dataframe\">\n",
       "  <thead>\n",
       "    <tr style=\"text-align: right;\">\n",
       "      <th></th>\n",
       "      <th>ID</th>\n",
       "      <th>id</th>\n",
       "      <th>n_grams</th>\n",
       "      <th>topic_label</th>\n",
       "      <th>язык</th>\n",
       "      <th>facebook</th>\n",
       "      <th>умерший</th>\n",
       "      <th>интеллект</th>\n",
       "      <th>искусственный</th>\n",
       "      <th>%</th>\n",
       "      <th>амурский</th>\n",
       "      <th>естественный</th>\n",
       "      <th>прибывший</th>\n",
       "      <th>убыль</th>\n",
       "      <th>уехавший</th>\n",
       "    </tr>\n",
       "  </thead>\n",
       "  <tbody>\n",
       "    <tr>\n",
       "      <th>57</th>\n",
       "      <td>57</td>\n",
       "      <td>82149676.0</td>\n",
       "      <td>социальный_сеть_facebook база_искусственный_ин...</td>\n",
       "      <td>Facebook отключил искусственный интеллект, соз...</td>\n",
       "      <td>0.183333</td>\n",
       "      <td>0.200000</td>\n",
       "      <td>0.000000</td>\n",
       "      <td>0.133333</td>\n",
       "      <td>0.133333</td>\n",
       "      <td>0.000000</td>\n",
       "      <td>0.000000</td>\n",
       "      <td>0.000000</td>\n",
       "      <td>0.000000</td>\n",
       "      <td>0.000000</td>\n",
       "      <td>0.000000</td>\n",
       "    </tr>\n",
       "    <tr>\n",
       "      <th>134</th>\n",
       "      <td>134</td>\n",
       "      <td>158429.0</td>\n",
       "      <td>численность_постоянный_население амурский_обла...</td>\n",
       "      <td>Амурская область теряет 9 человек в день</td>\n",
       "      <td>0.000000</td>\n",
       "      <td>0.000000</td>\n",
       "      <td>0.102564</td>\n",
       "      <td>0.000000</td>\n",
       "      <td>0.000000</td>\n",
       "      <td>0.153846</td>\n",
       "      <td>0.153846</td>\n",
       "      <td>0.128205</td>\n",
       "      <td>0.179487</td>\n",
       "      <td>0.153846</td>\n",
       "      <td>0.128205</td>\n",
       "    </tr>\n",
       "    <tr>\n",
       "      <th>132</th>\n",
       "      <td>132</td>\n",
       "      <td>157648.0</td>\n",
       "      <td>компания_facebook решение_закрыть система_иску...</td>\n",
       "      <td>Facebook отключил ботов, разработавших собстве...</td>\n",
       "      <td>0.067067</td>\n",
       "      <td>0.043621</td>\n",
       "      <td>0.000000</td>\n",
       "      <td>0.070338</td>\n",
       "      <td>0.071429</td>\n",
       "      <td>0.000000</td>\n",
       "      <td>0.000000</td>\n",
       "      <td>0.000000</td>\n",
       "      <td>0.000000</td>\n",
       "      <td>0.000000</td>\n",
       "      <td>0.000000</td>\n",
       "    </tr>\n",
       "    <tr>\n",
       "      <th>117</th>\n",
       "      <td>117</td>\n",
       "      <td>157648.0</td>\n",
       "      <td>компания_facebook решение_закрыть система_иску...</td>\n",
       "      <td>Facebook отключил ботов, разработавших собстве...</td>\n",
       "      <td>0.067067</td>\n",
       "      <td>0.043621</td>\n",
       "      <td>0.000000</td>\n",
       "      <td>0.070338</td>\n",
       "      <td>0.071429</td>\n",
       "      <td>0.000000</td>\n",
       "      <td>0.000000</td>\n",
       "      <td>0.000000</td>\n",
       "      <td>0.000000</td>\n",
       "      <td>0.000000</td>\n",
       "      <td>0.000000</td>\n",
       "    </tr>\n",
       "    <tr>\n",
       "      <th>133</th>\n",
       "      <td>133</td>\n",
       "      <td>157648.0</td>\n",
       "      <td>компания_facebook решение_закрыть система_иску...</td>\n",
       "      <td>Facebook отключил ботов, разработавших собстве...</td>\n",
       "      <td>0.067067</td>\n",
       "      <td>0.043621</td>\n",
       "      <td>0.000000</td>\n",
       "      <td>0.070338</td>\n",
       "      <td>0.071429</td>\n",
       "      <td>0.000000</td>\n",
       "      <td>0.000000</td>\n",
       "      <td>0.000000</td>\n",
       "      <td>0.000000</td>\n",
       "      <td>0.000000</td>\n",
       "      <td>0.000000</td>\n",
       "    </tr>\n",
       "    <tr>\n",
       "      <th>143</th>\n",
       "      <td>143</td>\n",
       "      <td>157732.0</td>\n",
       "      <td>соцсеть_facebook база_искусственный_интеллект ...</td>\n",
       "      <td>Facebook отключил чат-ботов, создавших собстве...</td>\n",
       "      <td>0.060976</td>\n",
       "      <td>0.052265</td>\n",
       "      <td>0.000000</td>\n",
       "      <td>0.080139</td>\n",
       "      <td>0.080139</td>\n",
       "      <td>0.000000</td>\n",
       "      <td>0.000000</td>\n",
       "      <td>0.000000</td>\n",
       "      <td>0.000000</td>\n",
       "      <td>0.000000</td>\n",
       "      <td>0.000000</td>\n",
       "    </tr>\n",
       "    <tr>\n",
       "      <th>147</th>\n",
       "      <td>147</td>\n",
       "      <td>157732.0</td>\n",
       "      <td>новый_сервис мгновенный_сообщение главный_ново...</td>\n",
       "      <td>Facebook отключил чат-ботов, создавших собстве...</td>\n",
       "      <td>0.060976</td>\n",
       "      <td>0.052265</td>\n",
       "      <td>0.000000</td>\n",
       "      <td>0.080139</td>\n",
       "      <td>0.080139</td>\n",
       "      <td>0.000000</td>\n",
       "      <td>0.000000</td>\n",
       "      <td>0.000000</td>\n",
       "      <td>0.000000</td>\n",
       "      <td>0.000000</td>\n",
       "      <td>0.000000</td>\n",
       "    </tr>\n",
       "  </tbody>\n",
       "</table>\n",
       "</div>"
      ],
      "text/plain": [
       "      ID          id                                            n_grams  \\\n",
       "57    57  82149676.0  социальный_сеть_facebook база_искусственный_ин...   \n",
       "134  134    158429.0  численность_постоянный_население амурский_обла...   \n",
       "132  132    157648.0  компания_facebook решение_закрыть система_иску...   \n",
       "117  117    157648.0  компания_facebook решение_закрыть система_иску...   \n",
       "133  133    157648.0  компания_facebook решение_закрыть система_иску...   \n",
       "143  143    157732.0  соцсеть_facebook база_искусственный_интеллект ...   \n",
       "147  147    157732.0  новый_сервис мгновенный_сообщение главный_ново...   \n",
       "\n",
       "                                           topic_label      язык  facebook  \\\n",
       "57   Facebook отключил искусственный интеллект, соз...  0.183333  0.200000   \n",
       "134           Амурская область теряет 9 человек в день  0.000000  0.000000   \n",
       "132  Facebook отключил ботов, разработавших собстве...  0.067067  0.043621   \n",
       "117  Facebook отключил ботов, разработавших собстве...  0.067067  0.043621   \n",
       "133  Facebook отключил ботов, разработавших собстве...  0.067067  0.043621   \n",
       "143  Facebook отключил чат-ботов, создавших собстве...  0.060976  0.052265   \n",
       "147  Facebook отключил чат-ботов, создавших собстве...  0.060976  0.052265   \n",
       "\n",
       "      умерший  интеллект  искусственный         %  амурский  естественный  \\\n",
       "57   0.000000   0.133333       0.133333  0.000000  0.000000      0.000000   \n",
       "134  0.102564   0.000000       0.000000  0.153846  0.153846      0.128205   \n",
       "132  0.000000   0.070338       0.071429  0.000000  0.000000      0.000000   \n",
       "117  0.000000   0.070338       0.071429  0.000000  0.000000      0.000000   \n",
       "133  0.000000   0.070338       0.071429  0.000000  0.000000      0.000000   \n",
       "143  0.000000   0.080139       0.080139  0.000000  0.000000      0.000000   \n",
       "147  0.000000   0.080139       0.080139  0.000000  0.000000      0.000000   \n",
       "\n",
       "     прибывший     убыль  уехавший  \n",
       "57    0.000000  0.000000  0.000000  \n",
       "134   0.179487  0.153846  0.128205  \n",
       "132   0.000000  0.000000  0.000000  \n",
       "117   0.000000  0.000000  0.000000  \n",
       "133   0.000000  0.000000  0.000000  \n",
       "143   0.000000  0.000000  0.000000  \n",
       "147   0.000000  0.000000  0.000000  "
      ]
     },
     "execution_count": 33,
     "metadata": {},
     "output_type": "execute_result"
    }
   ],
   "source": [
    "small_sample.loc[good_list, (small_sample.iloc[good_list] >0.09).any(axis=0)]"
   ]
  },
  {
   "cell_type": "markdown",
   "metadata": {},
   "source": [
    "# Other stuff"
   ]
  },
  {
   "cell_type": "code",
   "execution_count": 25,
   "metadata": {},
   "outputs": [
    {
     "name": "stdout",
     "output_type": "stream",
     "text": [
      "[-1  0 -1  0 -1 -1 -1 -1  0  0  0 -1  0 -1  0  0 -1  0 -1 -1  0  0 -1  0  0\n",
      "  0 -1 -1 -1 -1 -1  0 -1 -1 -1 -1 -1 -1 -1 -1  0  0 -1 -1  0  0 -1 -1 -1 -1\n",
      "  0 -1 -1 -1 -1  0 -1 -1  0 -1 -1 -1 -1 -1 -1 -1 -1  0  0 -1  0  0  0  0  0\n",
      " -1  0  0 -1 -1 -1  0 -1 -1  0  0  0  0  0 -1 -1  0 -1 -1  0 -1  0 -1  0 -1\n",
      "  0  0 -1  0  0 -1 -1 -1 -1  0 -1 -1 -1 -1 -1 -1 -1  0 -1 -1 -1 -1 -1 -1 -1\n",
      " -1 -1  0  0 -1 -1 -1  0  0 -1 -1 -1 -1  0  0  0  0 -1  0 -1 -1 -1  0 -1  0\n",
      " -1  0  0  0  0 -1 -1  0 -1  0  0  0  0  0 -1 -1 -1 -1  0  0 -1 -1 -1  0 -1\n",
      " -1 -1 -1  0  0 -1  0  0 -1 -1  0  0  0  0 -1 -1 -1 -1 -1  0  0 -1 -1 -1  0\n",
      "  0 -1 -1]\n"
     ]
    }
   ],
   "source": [
    "print('Estimated number of clusters: %d' % n_clusters_)\n",
    "print(\"Homogeneity: %0.3f\" % metrics.homogeneity_score(labels_true, labels))\n",
    "print(\"Completeness: %0.3f\" % metrics.completeness_score(labels_true, labels))\n",
    "print(\"V-measure: %0.3f\" % metrics.v_measure_score(labels_true, labels))\n",
    "print(\"Adjusted Rand Index: %0.3f\"\n",
    "      % metrics.adjusted_rand_score(labels_true, labels))\n",
    "print(\"Adjusted Mutual Information: %0.3f\"\n",
    "      % metrics.adjusted_mutual_info_score(labels_true, labels))\n",
    "print(\"Silhouette Coefficient: %0.3f\"\n",
    "      % metrics.silhouette_score(X, labels))"
   ]
  },
  {
   "cell_type": "code",
   "execution_count": 15,
   "metadata": {},
   "outputs": [
    {
     "name": "stdout",
     "output_type": "stream",
     "text": [
      "Estimated number of clusters: 3\n",
      "Homogeneity: 0.880\n",
      "Completeness: 0.724\n",
      "V-measure: 0.794\n",
      "Adjusted Rand Index: 0.809\n",
      "Adjusted Mutual Information: 0.723\n",
      "Silhouette Coefficient: 0.543\n"
     ]
    },
    {
     "data": {
      "image/png": "[encoded data removed]",
      "text/plain": [
       "<matplotlib.figure.Figure at 0x7f6596740710>"
      ]
     },
     "metadata": {},
     "output_type": "display_data"
    }
   ],
   "source": [
    "import matplotlib.pyplot as plt\n",
    "\n",
    "# Black removed and is used for noise instead.\n",
    "unique_labels = set(labels)\n",
    "colors = [plt.cm.Spectral(each)\n",
    "          for each in np.linspace(0, 1, len(unique_labels))]\n",
    "for k, col in zip(unique_labels, colors):\n",
    "    if k == -1:\n",
    "        # Black used for noise.\n",
    "        col = [0, 0, 0, 1]\n",
    "        \n",
    "    class_member_mask = (labels == k)\n",
    "\n",
    "    xy = X[class_member_mask & core_samples_mask]\n",
    "    plt.plot(xy[:, 0], xy[:, 1], 'o', markerfacecolor=tuple(col),\n",
    "             markeredgecolor='k', markersize=14)\n",
    "\n",
    "    xy = X[class_member_mask & ~core_samples_mask]\n",
    "    plt.plot(xy[:, 0], xy[:, 1], 'o', markerfacecolor=tuple(col),\n",
    "             markeredgecolor='k', markersize=6)\n",
    "\n",
    "plt.title('Estimated number of clusters: %d' % n_clusters_)\n",
    "plt.show()"
   ]
  },
  {
   "cell_type": "markdown",
   "metadata": {},
   "source": []
  },
  {
   "cell_type": "markdown",
   "metadata": {
    "collapsed": true
   },
   "source": [
    "# LVL3 EXPERIMENTS"
   ]
  },
  {
   "cell_type": "code",
   "execution_count": 249,
   "metadata": {},
   "outputs": [
    {
     "data": {
      "text/html": [
       "<div>\n",
       "<style>\n",
       "    .dataframe thead tr:only-child th {\n",
       "        text-align: right;\n",
       "    }\n",
       "\n",
       "    .dataframe thead th {\n",
       "        text-align: left;\n",
       "    }\n",
       "\n",
       "    .dataframe tbody tr th {\n",
       "        vertical-align: top;\n",
       "    }\n",
       "</style>\n",
       "<table border=\"1\" class=\"dataframe\">\n",
       "  <thead>\n",
       "    <tr style=\"text-align: right;\">\n",
       "      <th></th>\n",
       "      <th>Unnamed: 0</th>\n",
       "      <th>distribution</th>\n",
       "      <th>id</th>\n",
       "      <th>topic_label</th>\n",
       "    </tr>\n",
       "  </thead>\n",
       "  <tbody>\n",
       "    <tr>\n",
       "      <th>24360</th>\n",
       "      <td>24360</td>\n",
       "      <td>[{'word': '58', 'prob': 0.10256410256410256}, ...</td>\n",
       "      <td>318203.0</td>\n",
       "      <td>Амурская молодежь получила федеральное финанси...</td>\n",
       "    </tr>\n",
       "    <tr>\n",
       "      <th>19671</th>\n",
       "      <td>19671</td>\n",
       "      <td>[{'word': 'пример', 'prob': 0.0287769784172661...</td>\n",
       "      <td>2386885.0</td>\n",
       "      <td>Евразийская задача: как перейти от сырьевой эк...</td>\n",
       "    </tr>\n",
       "    <tr>\n",
       "      <th>5964</th>\n",
       "      <td>5964</td>\n",
       "      <td>[{'word': 'посетитель', 'prob': 0.004655493482...</td>\n",
       "      <td>197759.0</td>\n",
       "      <td>И снова сын чиновника сбил ребенка</td>\n",
       "    </tr>\n",
       "    <tr>\n",
       "      <th>21106</th>\n",
       "      <td>21106</td>\n",
       "      <td>[{'word': 'смена', 'prob': 0.38461538461538464...</td>\n",
       "      <td>297702.0</td>\n",
       "      <td>В регионе стартует областная военно-спортивная...</td>\n",
       "    </tr>\n",
       "    <tr>\n",
       "      <th>29635</th>\n",
       "      <td>29635</td>\n",
       "      <td>[{'word': 'двуколка', 'prob': 0.00451807228915...</td>\n",
       "      <td>352611.0</td>\n",
       "      <td>Карма</td>\n",
       "    </tr>\n",
       "  </tbody>\n",
       "</table>\n",
       "</div>"
      ],
      "text/plain": [
       "       Unnamed: 0                                       distribution  \\\n",
       "24360       24360  [{'word': '58', 'prob': 0.10256410256410256}, ...   \n",
       "19671       19671  [{'word': 'пример', 'prob': 0.0287769784172661...   \n",
       "5964         5964  [{'word': 'посетитель', 'prob': 0.004655493482...   \n",
       "21106       21106  [{'word': 'смена', 'prob': 0.38461538461538464...   \n",
       "29635       29635  [{'word': 'двуколка', 'prob': 0.00451807228915...   \n",
       "\n",
       "              id                                        topic_label  \n",
       "24360   318203.0  Амурская молодежь получила федеральное финанси...  \n",
       "19671  2386885.0  Евразийская задача: как перейти от сырьевой эк...  \n",
       "5964    197759.0                 И снова сын чиновника сбил ребенка  \n",
       "21106   297702.0  В регионе стартует областная военно-спортивная...  \n",
       "29635   352611.0                                              Карма  "
      ]
     },
     "execution_count": 249,
     "metadata": {},
     "output_type": "execute_result"
    }
   ],
   "source": [
    "lvl3_data = pd.read_csv('lvl3_words_2h_100.csv')\n",
    "lvl3_data.sample(5)"
   ]
  },
  {
   "cell_type": "code",
   "execution_count": 250,
   "metadata": {},
   "outputs": [
    {
     "data": {
      "text/plain": [
       "(34115, 4)"
      ]
     },
     "execution_count": 250,
     "metadata": {},
     "output_type": "execute_result"
    }
   ],
   "source": [
    "lvl3_data.shape"
   ]
  },
  {
   "cell_type": "code",
   "execution_count": 251,
   "metadata": {},
   "outputs": [],
   "source": [
    "import json\n",
    "from tqdm import tqdm_notebook as tqdm"
   ]
  },
  {
   "cell_type": "code",
   "execution_count": 252,
   "metadata": {},
   "outputs": [
    {
     "data": {
      "text/plain": [
       "{'ass': 0, 'bitch': 1, 'philya': 2}"
      ]
     },
     "execution_count": 252,
     "metadata": {},
     "output_type": "execute_result"
    }
   ],
   "source": [
    "from sklearn.feature_extraction.text import CountVectorizer\n",
    "counter = CountVectorizer(max_features=3)\n",
    "counter.fit_transform(['ass', 'ass', 'bitch', 'ass', 'bitch', 'philya', 'philya', 'philya', 'philya', 'philya', 'philya']).toarray()\n",
    "# counter.transform()\n",
    "counter.vocabulary_"
   ]
  },
  {
   "cell_type": "code",
   "execution_count": 253,
   "metadata": {},
   "outputs": [
    {
     "data": {
      "application/vnd.jupyter.widget-view+json": {
       "model_id": "57287262040a4dffbbcdb322cce2daeb",
       "version_major": 2,
       "version_minor": 0
      },
      "text/plain": [
       "A Jupyter Widget"
      ]
     },
     "metadata": {},
     "output_type": "display_data"
    },
    {
     "name": "stdout",
     "output_type": "stream",
     "text": [
      "\n"
     ]
    },
    {
     "data": {
      "text/plain": [
       "['посвященный',\n",
       " 'знаменка',\n",
       " 'екатеринбург',\n",
       " 'свердловский',\n",
       " 'состоится',\n",
       " 'самолет',\n",
       " 'опытный',\n",
       " 'двигатель',\n",
       " 'экземпляр',\n",
       " 'тонна']"
      ]
     },
     "execution_count": 253,
     "metadata": {},
     "output_type": "execute_result"
    }
   ],
   "source": [
    "list_of_all_words = []\n",
    "for i in tqdm(range(len(lvl3_data))):\n",
    "    strobj = str(lvl3_data.iloc[i]['distribution']).replace(\" '\", ' \"').replace(\"' \" , '\" ').replace(\"{'\", '{\"').replace(\"':\" , '\":').replace(\"',\", '\",')\n",
    "#     print(strobj)\n",
    "    \n",
    "    jsonobj = json.loads(strobj)\n",
    "    list_of_all_words.extend([d['word'] for d in jsonobj])\n",
    "    \n",
    "list_of_all_words[:10]"
   ]
  },
  {
   "cell_type": "code",
   "execution_count": 254,
   "metadata": {},
   "outputs": [
    {
     "name": "stdout",
     "output_type": "stream",
     "text": [
      "[{\"word\": \"диплом\", \"prob\": 0.08695652173913043}, {\"word\": \"судья\", \"prob\": 0.15217391304347827}, {\"word\": \"университет\", \"prob\": 0.08695652173913043}, {\"word\": \"справка\", \"prob\": 0.08695652173913043}, {\"word\": \"выдавал\", \"prob\": 0.08695652173913043}, {\"word\": \"госуниверситет\", \"prob\": 0.10869565217391304}, {\"word\": \"хахалева\", \"prob\": 0.10869565217391304}, {\"word\": \"новости-грузия\", \"prob\": 0.10869565217391304}, {\"word\": \"сухумский\", \"prob\": 0.17391304347826086}]\n"
     ]
    }
   ],
   "source": [
    "print(strobj)"
   ]
  },
  {
   "cell_type": "code",
   "execution_count": 255,
   "metadata": {},
   "outputs": [
    {
     "data": {
      "text/plain": [
       "736211"
      ]
     },
     "execution_count": 255,
     "metadata": {},
     "output_type": "execute_result"
    }
   ],
   "source": [
    "len(list_of_all_words)"
   ]
  },
  {
   "cell_type": "code",
   "execution_count": 256,
   "metadata": {},
   "outputs": [
    {
     "data": {
      "text/plain": [
       "CountVectorizer(analyzer='word', binary=False, decode_error='strict',\n",
       "        dtype=<class 'numpy.int64'>, encoding='utf-8', input='content',\n",
       "        lowercase=True, max_df=1.0, max_features=2000, min_df=1,\n",
       "        ngram_range=(1, 1), preprocessor=None, stop_words=None,\n",
       "        strip_accents=None, token_pattern='(?u)\\\\b\\\\w\\\\w+\\\\b',\n",
       "        tokenizer=None, vocabulary=None)"
      ]
     },
     "execution_count": 256,
     "metadata": {},
     "output_type": "execute_result"
    }
   ],
   "source": [
    "counter = CountVectorizer(max_features=2000)\n",
    "counter.fit(list_of_all_words)"
   ]
  },
  {
   "cell_type": "code",
   "execution_count": 257,
   "metadata": {
    "scrolled": true
   },
   "outputs": [
    {
     "data": {
      "application/vnd.jupyter.widget-view+json": {
       "model_id": "b6e9756d434c479cae905f942a076a98",
       "version_major": 2,
       "version_minor": 0
      },
      "text/plain": [
       "A Jupyter Widget"
      ]
     },
     "metadata": {},
     "output_type": "display_data"
    },
    {
     "name": "stdout",
     "output_type": "stream",
     "text": [
      "\n"
     ]
    }
   ],
   "source": [
    "hue_moe = np.zeros((lvl3_data.shape[0], counter.max_features))\n",
    "for i in tqdm(range(len(lvl3_data))):\n",
    "    strobj = str(lvl3_data.iloc[i]['distribution']).replace(\" '\", ' \"').replace(\"' \" , '\" ').replace(\"{'\", '{\"').replace(\"':\" , '\":').replace(\"',\", '\",')\n",
    "#     print(strobj)\n",
    "    \n",
    "    jsonobj = json.loads(strobj)\n",
    "    for d in jsonobj:\n",
    "#         hue_moe[i, counter.vocabulary_[d['word']]] = d['prob']\n",
    "        hue_moe[i] += counter.transform([d['word']]) * d['prob']"
   ]
  },
  {
   "cell_type": "code",
   "execution_count": 258,
   "metadata": {},
   "outputs": [
    {
     "data": {
      "text/plain": [
       "(1185, 2000)"
      ]
     },
     "execution_count": 258,
     "metadata": {},
     "output_type": "execute_result"
    }
   ],
   "source": [
    "hue_moe[(hue_moe.sum(axis=1)==0), :].shape"
   ]
  },
  {
   "cell_type": "code",
   "execution_count": null,
   "metadata": {
    "collapsed": true
   },
   "outputs": [],
   "source": []
  },
  {
   "cell_type": "code",
   "execution_count": null,
   "metadata": {
    "collapsed": true
   },
   "outputs": [],
   "source": []
  },
  {
   "cell_type": "code",
   "execution_count": null,
   "metadata": {
    "collapsed": true
   },
   "outputs": [],
   "source": []
  }
 ],
 "metadata": {
  "kernelspec": {
   "display_name": "Python 3",
   "language": "python",
   "name": "python3"
  },
  "language_info": {
   "codemirror_mode": {
    "name": "ipython",
    "version": 3
   },
   "file_extension": ".py",
   "mimetype": "text/x-python",
   "name": "python",
   "nbconvert_exporter": "python",
   "pygments_lexer": "ipython3",
   "version": "3.6.3"
  }
 },
 "nbformat": 4,
 "nbformat_minor": 2
}
