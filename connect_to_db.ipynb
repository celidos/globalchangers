{
 "cells": [
  {
   "cell_type": "code",
   "execution_count": 62,
   "metadata": {},
   "outputs": [],
   "source": [
    "import pymongo as pmn\n",
    "from sshtunnel import SSHTunnelForwarder\n",
    "import pprint\n",
    "import datetime\n",
    "import pandas as pd\n",
    "from tqdm import tqdm_notebook as tqdm\n",
    "import numpy as np\n",
    "import matplotlib.pyplot as plt\n",
    "from scipy.sparse import csr_matrix\n",
    "\n",
    "%matplotlib inline"
   ]
  },
  {
   "cell_type": "markdown",
   "metadata": {},
   "source": [
    "# Инициализация базы"
   ]
  },
  {
   "cell_type": "code",
   "execution_count": 2,
   "metadata": {
    "collapsed": true
   },
   "outputs": [],
   "source": [
    "MONGO_HOST = \"10.2.81.40\"\n",
    "MONGO_DB = \"VectorX_DWH\"\n",
    "MONGO_PORT = 65372"
   ]
  },
  {
   "cell_type": "code",
   "execution_count": 4,
   "metadata": {
    "scrolled": false
   },
   "outputs": [
    {
     "name": "stdout",
     "output_type": "stream",
     "text": [
      "['documents', 'topic_by_date']\n"
     ]
    }
   ],
   "source": [
    "server = SSHTunnelForwarder(\n",
    "    ssh_address_or_host=(\"10.2.81.40\"),\n",
    "    ssh_username=\"mmartinson\",\n",
    "    ssh_password=\"hyklapy\",\n",
    "    remote_bind_address=('127.0.0.1', 27017),\n",
    ")\n",
    "\n",
    "server.start()\n",
    "\n",
    "client = pmn.MongoClient('127.0.0.1', server.local_bind_port) # server.local_bind_port is assigned local port\n",
    "db = client[MONGO_DB]\n",
    "pprint.pprint(db.collection_names())\n",
    "server.stop()"
   ]
  },
  {
   "cell_type": "code",
   "execution_count": 5,
   "metadata": {
    "collapsed": true
   },
   "outputs": [],
   "source": [
    "server.stop()"
   ]
  },
  {
   "cell_type": "code",
   "execution_count": 6,
   "metadata": {
    "collapsed": true
   },
   "outputs": [],
   "source": [
    "server.start()\n",
    "client = pmn.MongoClient('127.0.0.1', server.local_bind_port) # server.local_bind_port is assigned local port\n",
    "db = client[MONGO_DB]\n",
    "docs = db.documents"
   ]
  },
  {
   "cell_type": "markdown",
   "metadata": {},
   "source": [
    "# Вспомогательные функции"
   ]
  },
  {
   "cell_type": "code",
   "execution_count": 6,
   "metadata": {
    "collapsed": true
   },
   "outputs": [],
   "source": [
    "def write_list_to_csv(lst, filename):\n",
    "    pd.DataFrame(list(lst)).to_csv(filename)"
   ]
  },
  {
   "cell_type": "markdown",
   "metadata": {},
   "source": [
    "# Выкачивание данных"
   ]
  },
  {
   "cell_type": "code",
   "execution_count": 84,
   "metadata": {},
   "outputs": [
    {
     "data": {
      "text/plain": [
       "datetime.datetime(2017, 8, 1, 0, 0, 2)"
      ]
     },
     "execution_count": 84,
     "metadata": {},
     "output_type": "execute_result"
    }
   ],
   "source": [
    "docs.find_one()['rss_pubDate']#['channel']['item']['pubDate']"
   ]
  },
  {
   "cell_type": "markdown",
   "metadata": {},
   "source": [
    "### Про таблицу\n",
    "\n",
    "#### Всего записей"
   ]
  },
  {
   "cell_type": "code",
   "execution_count": 17,
   "metadata": {},
   "outputs": [
    {
     "name": "stdout",
     "output_type": "stream",
     "text": [
      "2060904\n",
      "CPU times: user 4 ms, sys: 0 ns, total: 4 ms\n",
      "Wall time: 75.8 ms\n"
     ]
    }
   ],
   "source": [
    "%%time\n",
    "TOTAL_DOCUMENTS = docs.count()\n",
    "print(TOTAL_DOCUMENTS)"
   ]
  },
  {
   "cell_type": "markdown",
   "metadata": {},
   "source": [
    "#### Распределения\n",
    "\n",
    "[related stack overflow](https://stackoverflow.com/questions/25646027/group-query-upon-nested-object-in-mongodb?utm_medium=organic&utm_source=google_rich_qa&utm_campaign=google_rich_qa)\n",
    "\n",
    "[related 2 stack overflow](https://stackoverflow.com/questions/36645838/count-how-many-documents-contain-a-field?utm_medium=organic&utm_source=google_rich_qa&utm_campaign=google_rich_qa)\n",
    "\n",
    "[related](https://smyl.es/how-to-count-the-number-of-values-found-for-a-field-in-mongodb-using-node-js-and-mongoose-using-aggregation/)"
   ]
  },
  {
   "cell_type": "code",
   "execution_count": 18,
   "metadata": {},
   "outputs": [
    {
     "data": {
      "text/html": [
       "<div>\n",
       "<style>\n",
       "    .dataframe thead tr:only-child th {\n",
       "        text-align: right;\n",
       "    }\n",
       "\n",
       "    .dataframe thead th {\n",
       "        text-align: left;\n",
       "    }\n",
       "\n",
       "    .dataframe tbody tr th {\n",
       "        vertical-align: top;\n",
       "    }\n",
       "</style>\n",
       "<table border=\"1\" class=\"dataframe\">\n",
       "  <thead>\n",
       "    <tr style=\"text-align: right;\">\n",
       "      <th></th>\n",
       "      <th>lvl1_политика</th>\n",
       "      <th>lvl1_спорт</th>\n",
       "      <th>lvl1_экономика_и_финансы</th>\n",
       "      <th>lvl1_общество_и_путешествия</th>\n",
       "      <th>lvl1_силовые_структуры</th>\n",
       "      <th>lvl1_медиа</th>\n",
       "      <th>lvl1_наука_и_техника</th>\n",
       "      <th>lvl1_происшествия</th>\n",
       "      <th>lvl1_бизнес</th>\n",
       "      <th>lvl1_культура</th>\n",
       "    </tr>\n",
       "  </thead>\n",
       "  <tbody>\n",
       "    <tr>\n",
       "      <th>0</th>\n",
       "      <td>0</td>\n",
       "      <td>0</td>\n",
       "      <td>0</td>\n",
       "      <td>0</td>\n",
       "      <td>0</td>\n",
       "      <td>0</td>\n",
       "      <td>0</td>\n",
       "      <td>0</td>\n",
       "      <td>0</td>\n",
       "      <td>0</td>\n",
       "    </tr>\n",
       "  </tbody>\n",
       "</table>\n",
       "</div>"
      ],
      "text/plain": [
       "  lvl1_политика lvl1_спорт lvl1_экономика_и_финансы  \\\n",
       "0             0          0                        0   \n",
       "\n",
       "  lvl1_общество_и_путешествия lvl1_силовые_структуры lvl1_медиа  \\\n",
       "0                           0                      0          0   \n",
       "\n",
       "  lvl1_наука_и_техника lvl1_происшествия lvl1_бизнес lvl1_культура  \n",
       "0                    0                 0           0             0  "
      ]
     },
     "execution_count": 18,
     "metadata": {},
     "output_type": "execute_result"
    }
   ],
   "source": [
    "lvl1 = pd.DataFrame(columns=list(lvl1_names))\n",
    "cur_time = datetime.datetime(2017, 8, 1, 0, 0, 0)\n",
    "delta = datetime.timedelta(hours=1)\n",
    "\n",
    "default_nicht = {\n",
    " 'lvl1_бизнес' : 0,\n",
    " 'lvl1_культура' : 0,\n",
    " 'lvl1_медиа' : 0,\n",
    " 'lvl1_наука_и_техника' : 0,\n",
    " 'lvl1_общество_и_путешествия' : 0,\n",
    " 'lvl1_политика' : 0,\n",
    " 'lvl1_происшествия' : 0,\n",
    " 'lvl1_силовые_структуры' : 0,\n",
    " 'lvl1_спорт' : 0,\n",
    " 'lvl1_экономика_и_финансы' : 0}\n",
    "lvl1 = lvl1.append(default_nicht, ignore_index=True)\n",
    "lvl1"
   ]
  },
  {
   "cell_type": "code",
   "execution_count": 37,
   "metadata": {},
   "outputs": [
    {
     "name": "stdout",
     "output_type": "stream",
     "text": [
      "CPU times: user 992 ms, sys: 328 ms, total: 1.32 s\n",
      "Wall time: 12min 25s\n"
     ]
    }
   ],
   "source": [
    "%%time\n",
    "pipeline = [\n",
    "    {'$project' : {'topiclvl' : {'$arrayElemAt' : [\"$topics\", 0]}}},\n",
    "#     {'$unwind': '$topics'},    \n",
    "    {'$group' : {'_id' : '$topiclvl.lvl1.id', 'counted' : {'$sum' : 1}}}\n",
    "]\n",
    "lvl1_dist_cursor = list(docs.aggregate(pipeline=pipeline))"
   ]
  },
  {
   "cell_type": "code",
   "execution_count": 38,
   "metadata": {},
   "outputs": [
    {
     "data": {
      "text/plain": [
       "[{'_id': 'lvl1_общество_и_путешествия', 'counted': 772020},\n",
       " {'_id': 'lvl1_происшествия', 'counted': 5775},\n",
       " {'_id': 'lvl1_экономика_и_финансы', 'counted': 275121},\n",
       " {'_id': 'lvl1_медиа', 'counted': 68039},\n",
       " {'_id': 'lvl1_наука_и_техника', 'counted': 67820},\n",
       " {'_id': 'lvl1_политика', 'counted': 311357},\n",
       " {'_id': None, 'counted': 192154},\n",
       " {'_id': 'lvl1_культура', 'counted': 213198},\n",
       " {'_id': 'lvl1_бизнес', 'counted': 14970},\n",
       " {'_id': 'lvl1_спорт', 'counted': 102320},\n",
       " {'_id': 'lvl1_силовые_структуры', 'counted': 38130}]"
      ]
     },
     "execution_count": 38,
     "metadata": {},
     "output_type": "execute_result"
    }
   ],
   "source": [
    "lvl1_dist_cursor"
   ]
  },
  {
   "cell_type": "code",
   "execution_count": 40,
   "metadata": {},
   "outputs": [
    {
     "name": "stdout",
     "output_type": "stream",
     "text": [
      "{'_id': 'lvl1_общество_и_путешествия', 'counted': 772020}\n",
      "{'_id': 'lvl1_происшествия', 'counted': 5775}\n",
      "{'_id': 'lvl1_экономика_и_финансы', 'counted': 275121}\n",
      "{'_id': 'lvl1_медиа', 'counted': 68039}\n",
      "{'_id': 'lvl1_наука_и_техника', 'counted': 67820}\n",
      "{'_id': 'lvl1_политика', 'counted': 311357}\n",
      "{'_id': None, 'counted': 192154}\n",
      "{'_id': 'lvl1_культура', 'counted': 213198}\n",
      "{'_id': 'lvl1_бизнес', 'counted': 14970}\n",
      "{'_id': 'lvl1_спорт', 'counted': 102320}\n",
      "{'_id': 'lvl1_силовые_структуры', 'counted': 38130}\n"
     ]
    },
    {
     "data": {
      "text/plain": [
       "2060904"
      ]
     },
     "execution_count": 40,
     "metadata": {},
     "output_type": "execute_result"
    }
   ],
   "source": [
    "totalsum = 0\n",
    "for x in lvl1_dist_cursor:\n",
    "    totalsum += x['counted']\n",
    "    print(x)\n",
    "totalsum"
   ]
  },
  {
   "cell_type": "code",
   "execution_count": 41,
   "metadata": {
    "collapsed": true
   },
   "outputs": [],
   "source": [
    "pd.DataFrame(lvl1_dist_cursor).to_csv('./retro/lvl1_total_sum.csv')"
   ]
  },
  {
   "cell_type": "markdown",
   "metadata": {},
   "source": [
    "___\n",
    "#### Распределения первого уровня"
   ]
  },
  {
   "cell_type": "markdown",
   "metadata": {},
   "source": [
    "Создадим индексы:"
   ]
  },
  {
   "cell_type": "markdown",
   "metadata": {},
   "source": [
    "16:08"
   ]
  },
  {
   "cell_type": "code",
   "execution_count": 85,
   "metadata": {},
   "outputs": [
    {
     "data": {
      "text/plain": [
       "'rss_pubDate_1'"
      ]
     },
     "execution_count": 85,
     "metadata": {},
     "output_type": "execute_result"
    }
   ],
   "source": [
    "docs.create_index([('rss_pubDate', pmn.ASCENDING)])"
   ]
  },
  {
   "cell_type": "markdown",
   "metadata": {},
   "source": [
    "`Tue, 01 Aug 2017 00:00:02 GMT`"
   ]
  },
  {
   "cell_type": "code",
   "execution_count": 95,
   "metadata": {},
   "outputs": [
    {
     "name": "stdout",
     "output_type": "stream",
     "text": [
      "1 2 3 4 5 6 7 8 9 10 11 12 13 14 15 16 17 18 19 20 21 22 23 24 25 26 27 28 29 30 31 32 33 34 35 36 37 38 39 40 41 42 43 44 45 46 47 48 49 50 51 52 53 54 55 56 57 58 59 60 61 62 63 64 65 66 67 68 69 70 71 72 73 74 75 76 77 78 79 80 81 82 83 84 85 86 87 88 89 90 91 92 93 94 95 96 97 98 99 100 101 102 103 104 105 106 107 108 109 110 111 112 113 114 115 116 117 118 119 120 121 122 123 124 125 126 127 128 129 130 131 132 133 134 135 136 137 138 139 140 141 142 143 144 145 146 147 148 149 150 151 152 153 154 155 156 157 158 159 160 161 162 163 164 165 166 167 168 169 170 171 172 173 174 175 176 177 178 179 180 181 182 183 184 185 186 187 188 189 190 191 192 193 194 195 196 197 198 199 200 201 202 203 204 205 206 207 208 209 210 211 212 213 214 215 216 217 218 219 220 221 222 223 224 225 226 227 228 229 230 231 232 233 234 235 236 237 238 239 240 241 242 243 244 245 246 247 248 249 250 251 252 253 254 255 256 257 258 259 260 261 262 263 264 265 266 267 268 269 270 271 272 273 274 275 276 277 278 279 280 281 282 283 284 285 286 287 288 289 290 291 292 293 294 295 296 297 298 299 300 301 302 303 304 305 306 307 308 309 310 311 312 313 314 315 316 317 318 319 320 321 322 323 324 325 326 327 328 329 330 331 332 333 334 335 336 337 338 339 340 341 342 343 344 345 346 347 348 349 350 351 352 353 354 355 356 357 358 359 360 361 362 363 364 365 366 367 368 369 370 371 "
     ]
    }
   ],
   "source": [
    "list_lvl1_distr_full_2h = []\n",
    "\n",
    "start_time = datetime.datetime(2017, 8, 1, 0, 0, 0)\n",
    "delta = datetime.timedelta(hours=2)\n",
    "\n",
    "cur_time = 0\n",
    "while start_time + delta < datetime.datetime(2017, 9, 1, 0, 0, 0):\n",
    "#     print(start_time)\n",
    "    cursor = docs.find({\"rss_pubDate\" : {'$gt' : start_time, '$lt' : start_time + delta}})\n",
    "    \n",
    "    pipeline = [\n",
    "    {'$match' : {\"rss_pubDate\" : {'$gt' : start_time, '$lt' : start_time + delta}}},\n",
    "    {'$project' : {'topiclvl' : {'$arrayElemAt' : [\"$topics\", 0]}}},\n",
    "    {'$group' : {'_id' : '$topiclvl.lvl1.id', 'counted' : {'$sum' : 1}}}\n",
    "    ]\n",
    "    lvl1_sub_cursor = list(docs.aggregate(pipeline=pipeline))\n",
    "    list_lvl1_distr_full_2h.append(lvl1_sub_cursor)\n",
    "    start_time += delta\n",
    "    cur_time += 1\n",
    "    print(cur_time, end=' ')\n",
    "    "
   ]
  },
  {
   "cell_type": "code",
   "execution_count": 96,
   "metadata": {},
   "outputs": [
    {
     "data": {
      "text/plain": [
       "371"
      ]
     },
     "execution_count": 96,
     "metadata": {},
     "output_type": "execute_result"
    }
   ],
   "source": [
    "len(list_lvl1_distr_full_2h)"
   ]
  },
  {
   "cell_type": "code",
   "execution_count": 107,
   "metadata": {},
   "outputs": [
    {
     "data": {
      "text/plain": [
       "[[{'_id': 'lvl1_общество_и_путешествия', 'counted': 738},\n",
       "  {'_id': 'lvl1_происшествия', 'counted': 3},\n",
       "  {'_id': 'lvl1_экономика_и_финансы', 'counted': 228},\n",
       "  {'_id': 'lvl1_медиа', 'counted': 58},\n",
       "  {'_id': 'lvl1_наука_и_техника', 'counted': 64},\n",
       "  {'_id': 'lvl1_политика', 'counted': 287},\n",
       "  {'_id': None, 'counted': 79},\n",
       "  {'_id': 'lvl1_культура', 'counted': 127},\n",
       "  {'_id': 'lvl1_бизнес', 'counted': 13},\n",
       "  {'_id': 'lvl1_спорт', 'counted': 77},\n",
       "  {'_id': 'lvl1_силовые_структуры', 'counted': 27}],\n",
       " [{'_id': 'lvl1_происшествия', 'counted': 1},\n",
       "  {'_id': 'lvl1_экономика_и_финансы', 'counted': 471},\n",
       "  {'_id': 'lvl1_политика', 'counted': 594},\n",
       "  {'_id': None, 'counted': 215},\n",
       "  {'_id': 'lvl1_общество_и_путешествия', 'counted': 1275},\n",
       "  {'_id': 'lvl1_спорт', 'counted': 126},\n",
       "  {'_id': 'lvl1_наука_и_техника', 'counted': 108},\n",
       "  {'_id': 'lvl1_медиа', 'counted': 103},\n",
       "  {'_id': 'lvl1_силовые_структуры', 'counted': 42},\n",
       "  {'_id': 'lvl1_культура', 'counted': 271},\n",
       "  {'_id': 'lvl1_бизнес', 'counted': 36}]]"
      ]
     },
     "execution_count": 107,
     "metadata": {},
     "output_type": "execute_result"
    }
   ],
   "source": [
    "list_lvl1_distr_full_2h[:2]"
   ]
  },
  {
   "cell_type": "code",
   "execution_count": 108,
   "metadata": {
    "collapsed": true
   },
   "outputs": [],
   "source": [
    "list_lvl1_distr_full_2h = [{y['_id'] : y['counted'] for y in x} for x in list_lvl1_distr_full_2h]"
   ]
  },
  {
   "cell_type": "code",
   "execution_count": 133,
   "metadata": {
    "collapsed": true
   },
   "outputs": [],
   "source": [
    "df_lvl1_distr_full_2h = pd.DataFrame(list_lvl1_distr_full_2h).fillna(0)\n",
    "df_lvl1_distr_full_2h.to_csv('./retro/lvl1_dstr_2h_full_count.csv')"
   ]
  },
  {
   "cell_type": "code",
   "execution_count": 134,
   "metadata": {},
   "outputs": [
    {
     "data": {
      "text/html": [
       "<div>\n",
       "<style>\n",
       "    .dataframe thead tr:only-child th {\n",
       "        text-align: right;\n",
       "    }\n",
       "\n",
       "    .dataframe thead th {\n",
       "        text-align: left;\n",
       "    }\n",
       "\n",
       "    .dataframe tbody tr th {\n",
       "        vertical-align: top;\n",
       "    }\n",
       "</style>\n",
       "<table border=\"1\" class=\"dataframe\">\n",
       "  <thead>\n",
       "    <tr style=\"text-align: right;\">\n",
       "      <th></th>\n",
       "      <th>lvl1_медиа</th>\n",
       "      <th>lvl1_наука_и_техника</th>\n",
       "      <th>lvl1_общество_и_путешествия</th>\n",
       "      <th>lvl1_политика</th>\n",
       "      <th>lvl1_происшествия</th>\n",
       "      <th>lvl1_экономика_и_финансы</th>\n",
       "      <th>None</th>\n",
       "      <th>lvl1_культура</th>\n",
       "      <th>lvl1_бизнес</th>\n",
       "      <th>lvl1_спорт</th>\n",
       "      <th>lvl1_силовые_структуры</th>\n",
       "    </tr>\n",
       "  </thead>\n",
       "  <tbody>\n",
       "    <tr>\n",
       "      <th>0</th>\n",
       "      <td>58</td>\n",
       "      <td>64</td>\n",
       "      <td>738</td>\n",
       "      <td>287</td>\n",
       "      <td>3.0</td>\n",
       "      <td>228</td>\n",
       "      <td>79</td>\n",
       "      <td>127</td>\n",
       "      <td>13.0</td>\n",
       "      <td>77</td>\n",
       "      <td>27</td>\n",
       "    </tr>\n",
       "    <tr>\n",
       "      <th>1</th>\n",
       "      <td>103</td>\n",
       "      <td>108</td>\n",
       "      <td>1275</td>\n",
       "      <td>594</td>\n",
       "      <td>1.0</td>\n",
       "      <td>471</td>\n",
       "      <td>215</td>\n",
       "      <td>271</td>\n",
       "      <td>36.0</td>\n",
       "      <td>126</td>\n",
       "      <td>42</td>\n",
       "    </tr>\n",
       "    <tr>\n",
       "      <th>2</th>\n",
       "      <td>224</td>\n",
       "      <td>212</td>\n",
       "      <td>2854</td>\n",
       "      <td>1231</td>\n",
       "      <td>2.0</td>\n",
       "      <td>1283</td>\n",
       "      <td>451</td>\n",
       "      <td>573</td>\n",
       "      <td>50.0</td>\n",
       "      <td>341</td>\n",
       "      <td>109</td>\n",
       "    </tr>\n",
       "    <tr>\n",
       "      <th>3</th>\n",
       "      <td>331</td>\n",
       "      <td>371</td>\n",
       "      <td>4708</td>\n",
       "      <td>1824</td>\n",
       "      <td>7.0</td>\n",
       "      <td>2021</td>\n",
       "      <td>1215</td>\n",
       "      <td>1135</td>\n",
       "      <td>125.0</td>\n",
       "      <td>524</td>\n",
       "      <td>176</td>\n",
       "    </tr>\n",
       "    <tr>\n",
       "      <th>4</th>\n",
       "      <td>365</td>\n",
       "      <td>425</td>\n",
       "      <td>5129</td>\n",
       "      <td>1831</td>\n",
       "      <td>6.0</td>\n",
       "      <td>2035</td>\n",
       "      <td>1934</td>\n",
       "      <td>1605</td>\n",
       "      <td>156.0</td>\n",
       "      <td>547</td>\n",
       "      <td>250</td>\n",
       "    </tr>\n",
       "  </tbody>\n",
       "</table>\n",
       "</div>"
      ],
      "text/plain": [
       "   lvl1_медиа  lvl1_наука_и_техника  lvl1_общество_и_путешествия  \\\n",
       "0          58                    64                          738   \n",
       "1         103                   108                         1275   \n",
       "2         224                   212                         2854   \n",
       "3         331                   371                         4708   \n",
       "4         365                   425                         5129   \n",
       "\n",
       "   lvl1_политика  lvl1_происшествия  lvl1_экономика_и_финансы   NaN  \\\n",
       "0            287                3.0                       228    79   \n",
       "1            594                1.0                       471   215   \n",
       "2           1231                2.0                      1283   451   \n",
       "3           1824                7.0                      2021  1215   \n",
       "4           1831                6.0                      2035  1934   \n",
       "\n",
       "   lvl1_культура  lvl1_бизнес  lvl1_спорт  lvl1_силовые_структуры  \n",
       "0            127         13.0          77                      27  \n",
       "1            271         36.0         126                      42  \n",
       "2            573         50.0         341                     109  \n",
       "3           1135        125.0         524                     176  \n",
       "4           1605        156.0         547                     250  "
      ]
     },
     "execution_count": 134,
     "metadata": {},
     "output_type": "execute_result"
    }
   ],
   "source": [
    "df_lvl1_distr_full_2h.head()"
   ]
  },
  {
   "cell_type": "code",
   "execution_count": 135,
   "metadata": {},
   "outputs": [
    {
     "name": "stdout",
     "output_type": "stream",
     "text": [
      "2034744.0 of 2060904\n"
     ]
    }
   ],
   "source": [
    "print(df_lvl1_distr_full_2h.values.sum(axis=None), 'of', TOTAL_DOCUMENTS)"
   ]
  },
  {
   "cell_type": "markdown",
   "metadata": {},
   "source": [
    "#### Второй уровень"
   ]
  },
  {
   "cell_type": "code",
   "execution_count": 114,
   "metadata": {},
   "outputs": [
    {
     "name": "stdout",
     "output_type": "stream",
     "text": [
      "1 2 3 4 5 6 7 8 9 10 11 12 13 14 15 16 17 18 19 20 21 22 23 24 25 26 27 28 29 30 31 32 33 34 35 36 37 38 39 40 41 42 43 44 45 46 47 48 49 50 51 52 53 54 55 56 57 58 59 60 61 62 63 64 65 66 67 68 69 70 71 72 73 74 75 76 77 78 79 80 81 82 83 84 85 86 87 88 89 90 91 92 93 94 95 96 97 98 99 100 101 102 103 104 105 106 107 108 109 110 111 112 113 114 115 116 117 118 119 120 121 122 123 124 125 126 127 128 129 130 131 132 133 134 135 136 137 138 139 140 141 142 143 144 145 146 147 148 149 150 151 152 153 154 155 156 157 158 159 160 161 162 163 164 165 166 167 168 169 170 171 172 173 174 175 176 177 178 179 180 181 182 183 184 185 186 187 188 189 190 191 192 193 194 195 196 197 198 199 200 201 202 203 204 205 206 207 208 209 210 211 212 213 214 215 216 217 218 219 220 221 222 223 224 225 226 227 228 229 230 231 232 233 234 235 236 237 238 239 240 241 242 243 244 245 246 247 248 249 250 251 252 253 254 255 256 257 258 259 260 261 262 263 264 265 266 267 268 269 270 271 272 273 274 275 276 277 278 279 280 281 282 283 284 285 286 287 288 289 290 291 292 293 294 295 296 297 298 299 300 301 302 303 304 305 306 307 308 309 310 311 312 313 314 315 316 317 318 319 320 321 322 323 324 325 326 327 328 329 330 331 332 333 334 335 336 337 338 339 340 341 342 343 344 345 346 347 348 349 350 351 352 353 354 355 356 357 358 359 360 361 362 363 364 365 366 367 368 369 370 371 "
     ]
    }
   ],
   "source": [
    "list_lvl2_distr_full_2h = []\n",
    "\n",
    "start_time = datetime.datetime(2017, 8, 1, 0, 0, 0)\n",
    "delta = datetime.timedelta(hours=2)\n",
    "\n",
    "cur_time = 0\n",
    "while start_time + delta < datetime.datetime(2017, 9, 1, 0, 0, 0):\n",
    "#     print(start_time)\n",
    "    cursor = docs.find({\"rss_pubDate\" : {'$gt' : start_time, '$lt' : start_time + delta}})\n",
    "    \n",
    "    pipeline = [\n",
    "    {'$match' : {\"rss_pubDate\" : {'$gt' : start_time, '$lt' : start_time + delta}}},\n",
    "    {'$project' : {'topiclvl' : {'$arrayElemAt' : [\"$topics\", 0]}}},\n",
    "    {'$group' : {'_id' : '$topiclvl.lvl2.id', 'counted' : {'$sum' : 1}}}\n",
    "    ]\n",
    "    lvl2_sub_cursor = list(docs.aggregate(pipeline=pipeline))\n",
    "    list_lvl2_distr_full_2h.append(lvl2_sub_cursor)\n",
    "    start_time += delta\n",
    "    cur_time += 1\n",
    "    print(cur_time, end=' ')\n",
    "    "
   ]
  },
  {
   "cell_type": "code",
   "execution_count": 117,
   "metadata": {
    "collapsed": true
   },
   "outputs": [],
   "source": [
    "list_lvl2_distr_full_2h = [{y['_id'] : y['counted'] for y in x} for x in list_lvl2_distr_full_2h]"
   ]
  },
  {
   "cell_type": "code",
   "execution_count": 126,
   "metadata": {
    "collapsed": true
   },
   "outputs": [],
   "source": [
    "df_lvl2_distr_full_2h = pd.DataFrame(list_lvl2_distr_full_2h).fillna(0)\n",
    "df_lvl2_distr_full_2h.to_csv('./retro/lvl2_dstr_2h_full_count.csv')"
   ]
  },
  {
   "cell_type": "code",
   "execution_count": 136,
   "metadata": {},
   "outputs": [
    {
     "data": {
      "text/html": [
       "<div>\n",
       "<style>\n",
       "    .dataframe thead tr:only-child th {\n",
       "        text-align: right;\n",
       "    }\n",
       "\n",
       "    .dataframe thead th {\n",
       "        text-align: left;\n",
       "    }\n",
       "\n",
       "    .dataframe tbody tr th {\n",
       "        vertical-align: top;\n",
       "    }\n",
       "</style>\n",
       "<table border=\"1\" class=\"dataframe\">\n",
       "  <thead>\n",
       "    <tr style=\"text-align: right;\">\n",
       "      <th></th>\n",
       "      <th>lvl2_topic_subj_14</th>\n",
       "      <th>lvl2_topic_subj_19</th>\n",
       "      <th>lvl2_topic_subj_20</th>\n",
       "      <th>lvl2_topic_subj_21</th>\n",
       "      <th>lvl2_topic_subj_24</th>\n",
       "      <th>lvl2_topic_subj_28</th>\n",
       "      <th>lvl2_topic_subj_30</th>\n",
       "      <th>lvl2_topic_subj_32</th>\n",
       "      <th>lvl2_topic_subj_38</th>\n",
       "      <th>lvl2_topic_subj_39</th>\n",
       "      <th>...</th>\n",
       "      <th>lvl2_topic_subj_35</th>\n",
       "      <th>lvl2_topic_subj_13</th>\n",
       "      <th>lvl2_topic_subj_37</th>\n",
       "      <th>lvl2_topic_subj_55</th>\n",
       "      <th>lvl2_topic_subj_49</th>\n",
       "      <th>lvl2_topic_subj_64</th>\n",
       "      <th>lvl2_topic_subj_18</th>\n",
       "      <th>lvl2_topic_subj_8</th>\n",
       "      <th>lvl2_topic_subj_29</th>\n",
       "      <th>lvl2_topic_subj_41</th>\n",
       "    </tr>\n",
       "  </thead>\n",
       "  <tbody>\n",
       "    <tr>\n",
       "      <th>223</th>\n",
       "      <td>55</td>\n",
       "      <td>51.0</td>\n",
       "      <td>24</td>\n",
       "      <td>7.0</td>\n",
       "      <td>77</td>\n",
       "      <td>20</td>\n",
       "      <td>20</td>\n",
       "      <td>12</td>\n",
       "      <td>23</td>\n",
       "      <td>45</td>\n",
       "      <td>...</td>\n",
       "      <td>74</td>\n",
       "      <td>243</td>\n",
       "      <td>45</td>\n",
       "      <td>10.0</td>\n",
       "      <td>58.0</td>\n",
       "      <td>13.0</td>\n",
       "      <td>40.0</td>\n",
       "      <td>25</td>\n",
       "      <td>7.0</td>\n",
       "      <td>16.0</td>\n",
       "    </tr>\n",
       "    <tr>\n",
       "      <th>209</th>\n",
       "      <td>412</td>\n",
       "      <td>85.0</td>\n",
       "      <td>35</td>\n",
       "      <td>38.0</td>\n",
       "      <td>205</td>\n",
       "      <td>144</td>\n",
       "      <td>105</td>\n",
       "      <td>74</td>\n",
       "      <td>68</td>\n",
       "      <td>101</td>\n",
       "      <td>...</td>\n",
       "      <td>207</td>\n",
       "      <td>227</td>\n",
       "      <td>104</td>\n",
       "      <td>20.0</td>\n",
       "      <td>185.0</td>\n",
       "      <td>12.0</td>\n",
       "      <td>82.0</td>\n",
       "      <td>65</td>\n",
       "      <td>42.0</td>\n",
       "      <td>55.0</td>\n",
       "    </tr>\n",
       "    <tr>\n",
       "      <th>213</th>\n",
       "      <td>45</td>\n",
       "      <td>21.0</td>\n",
       "      <td>7</td>\n",
       "      <td>6.0</td>\n",
       "      <td>70</td>\n",
       "      <td>24</td>\n",
       "      <td>13</td>\n",
       "      <td>14</td>\n",
       "      <td>22</td>\n",
       "      <td>49</td>\n",
       "      <td>...</td>\n",
       "      <td>76</td>\n",
       "      <td>174</td>\n",
       "      <td>30</td>\n",
       "      <td>13.0</td>\n",
       "      <td>76.0</td>\n",
       "      <td>4.0</td>\n",
       "      <td>15.0</td>\n",
       "      <td>25</td>\n",
       "      <td>10.0</td>\n",
       "      <td>20.0</td>\n",
       "    </tr>\n",
       "    <tr>\n",
       "      <th>221</th>\n",
       "      <td>95</td>\n",
       "      <td>78.0</td>\n",
       "      <td>15</td>\n",
       "      <td>10.0</td>\n",
       "      <td>58</td>\n",
       "      <td>78</td>\n",
       "      <td>28</td>\n",
       "      <td>18</td>\n",
       "      <td>28</td>\n",
       "      <td>50</td>\n",
       "      <td>...</td>\n",
       "      <td>102</td>\n",
       "      <td>134</td>\n",
       "      <td>60</td>\n",
       "      <td>16.0</td>\n",
       "      <td>95.0</td>\n",
       "      <td>5.0</td>\n",
       "      <td>42.0</td>\n",
       "      <td>31</td>\n",
       "      <td>7.0</td>\n",
       "      <td>27.0</td>\n",
       "    </tr>\n",
       "    <tr>\n",
       "      <th>255</th>\n",
       "      <td>358</td>\n",
       "      <td>90.0</td>\n",
       "      <td>131</td>\n",
       "      <td>32.0</td>\n",
       "      <td>192</td>\n",
       "      <td>144</td>\n",
       "      <td>148</td>\n",
       "      <td>54</td>\n",
       "      <td>74</td>\n",
       "      <td>77</td>\n",
       "      <td>...</td>\n",
       "      <td>171</td>\n",
       "      <td>219</td>\n",
       "      <td>63</td>\n",
       "      <td>48.0</td>\n",
       "      <td>34.0</td>\n",
       "      <td>20.0</td>\n",
       "      <td>111.0</td>\n",
       "      <td>123</td>\n",
       "      <td>51.0</td>\n",
       "      <td>37.0</td>\n",
       "    </tr>\n",
       "  </tbody>\n",
       "</table>\n",
       "<p>5 rows × 71 columns</p>\n",
       "</div>"
      ],
      "text/plain": [
       "     lvl2_topic_subj_14  lvl2_topic_subj_19  lvl2_topic_subj_20  \\\n",
       "223                  55                51.0                  24   \n",
       "209                 412                85.0                  35   \n",
       "213                  45                21.0                   7   \n",
       "221                  95                78.0                  15   \n",
       "255                 358                90.0                 131   \n",
       "\n",
       "     lvl2_topic_subj_21  lvl2_topic_subj_24  lvl2_topic_subj_28  \\\n",
       "223                 7.0                  77                  20   \n",
       "209                38.0                 205                 144   \n",
       "213                 6.0                  70                  24   \n",
       "221                10.0                  58                  78   \n",
       "255                32.0                 192                 144   \n",
       "\n",
       "     lvl2_topic_subj_30  lvl2_topic_subj_32  lvl2_topic_subj_38  \\\n",
       "223                  20                  12                  23   \n",
       "209                 105                  74                  68   \n",
       "213                  13                  14                  22   \n",
       "221                  28                  18                  28   \n",
       "255                 148                  54                  74   \n",
       "\n",
       "     lvl2_topic_subj_39         ...          lvl2_topic_subj_35  \\\n",
       "223                  45         ...                          74   \n",
       "209                 101         ...                         207   \n",
       "213                  49         ...                          76   \n",
       "221                  50         ...                         102   \n",
       "255                  77         ...                         171   \n",
       "\n",
       "     lvl2_topic_subj_13  lvl2_topic_subj_37  lvl2_topic_subj_55  \\\n",
       "223                 243                  45                10.0   \n",
       "209                 227                 104                20.0   \n",
       "213                 174                  30                13.0   \n",
       "221                 134                  60                16.0   \n",
       "255                 219                  63                48.0   \n",
       "\n",
       "     lvl2_topic_subj_49  lvl2_topic_subj_64  lvl2_topic_subj_18  \\\n",
       "223                58.0                13.0                40.0   \n",
       "209               185.0                12.0                82.0   \n",
       "213                76.0                 4.0                15.0   \n",
       "221                95.0                 5.0                42.0   \n",
       "255                34.0                20.0               111.0   \n",
       "\n",
       "     lvl2_topic_subj_8  lvl2_topic_subj_29  lvl2_topic_subj_41  \n",
       "223                 25                 7.0                16.0  \n",
       "209                 65                42.0                55.0  \n",
       "213                 25                10.0                20.0  \n",
       "221                 31                 7.0                27.0  \n",
       "255                123                51.0                37.0  \n",
       "\n",
       "[5 rows x 71 columns]"
      ]
     },
     "execution_count": 136,
     "metadata": {},
     "output_type": "execute_result"
    }
   ],
   "source": [
    "df_lvl2_distr_full_2h.sample(5)"
   ]
  },
  {
   "cell_type": "code",
   "execution_count": 128,
   "metadata": {},
   "outputs": [
    {
     "data": {
      "text/plain": [
       "Index(['lvl2_topic_subj_14', 'lvl2_topic_subj_19', 'lvl2_topic_subj_20',\n",
       "       'lvl2_topic_subj_21', 'lvl2_topic_subj_24', 'lvl2_topic_subj_28',\n",
       "       'lvl2_topic_subj_30', 'lvl2_topic_subj_32', 'lvl2_topic_subj_38',\n",
       "       'lvl2_topic_subj_39',  'lvl2_topic_subj_4', 'lvl2_topic_subj_48',\n",
       "       'lvl2_topic_subj_50', 'lvl2_topic_subj_54', 'lvl2_topic_subj_58',\n",
       "       'lvl2_topic_subj_59', 'lvl2_topic_subj_61', 'lvl2_topic_subj_62',\n",
       "       'lvl2_topic_subj_68', 'lvl2_topic_subj_69',  'lvl2_topic_subj_9',\n",
       "                       None, 'lvl2_topic_subj_25', 'lvl2_topic_subj_65',\n",
       "        'lvl2_topic_subj_5', 'lvl2_topic_subj_46', 'lvl2_topic_subj_26',\n",
       "       'lvl2_topic_subj_60', 'lvl2_topic_subj_22', 'lvl2_topic_subj_42',\n",
       "        'lvl2_topic_subj_2', 'lvl2_topic_subj_40', 'lvl2_topic_subj_11',\n",
       "       'lvl2_topic_subj_34',  'lvl2_topic_subj_7', 'lvl2_topic_subj_52',\n",
       "        'lvl2_topic_subj_3', 'lvl2_topic_subj_15',  'lvl2_topic_subj_0',\n",
       "       'lvl2_topic_subj_53', 'lvl2_topic_subj_27', 'lvl2_topic_subj_23',\n",
       "        'lvl2_topic_subj_1', 'lvl2_topic_subj_57', 'lvl2_topic_subj_43',\n",
       "       'lvl2_topic_subj_51', 'lvl2_topic_subj_45', 'lvl2_topic_subj_10',\n",
       "       'lvl2_topic_subj_33', 'lvl2_topic_subj_36', 'lvl2_topic_subj_66',\n",
       "       'lvl2_topic_subj_63', 'lvl2_topic_subj_47', 'lvl2_topic_subj_12',\n",
       "       'lvl2_topic_subj_56',  'lvl2_topic_subj_6', 'lvl2_topic_subj_31',\n",
       "       'lvl2_topic_subj_16', 'lvl2_topic_subj_17', 'lvl2_topic_subj_44',\n",
       "       'lvl2_topic_subj_67', 'lvl2_topic_subj_35', 'lvl2_topic_subj_13',\n",
       "       'lvl2_topic_subj_37', 'lvl2_topic_subj_55', 'lvl2_topic_subj_49',\n",
       "       'lvl2_topic_subj_64', 'lvl2_topic_subj_18',  'lvl2_topic_subj_8',\n",
       "       'lvl2_topic_subj_29', 'lvl2_topic_subj_41'],\n",
       "      dtype='object')"
      ]
     },
     "execution_count": 128,
     "metadata": {},
     "output_type": "execute_result"
    }
   ],
   "source": [
    "df_lvl2_distr_full_2h.columns"
   ]
  },
  {
   "cell_type": "code",
   "execution_count": 130,
   "metadata": {},
   "outputs": [
    {
     "data": {
      "text/plain": [
       "2034744.0"
      ]
     },
     "execution_count": 130,
     "metadata": {},
     "output_type": "execute_result"
    }
   ],
   "source": [
    "df_lvl2_distr_full_2h.values.sum(axis=None)"
   ]
  },
  {
   "cell_type": "markdown",
   "metadata": {},
   "source": [
    "#### Третий уровень"
   ]
  },
  {
   "cell_type": "code",
   "execution_count": 22,
   "metadata": {},
   "outputs": [
    {
     "name": "stdout",
     "output_type": "stream",
     "text": [
      "1 2 3 4 5 6 7 8 9 10 11 12 13 14 15 16 17 18 19 20 21 22 23 24 25 26 27 28 29 30 31 32 33 34 35 36 37 38 39 40 41 42 43 44 45 46 47 48 49 50 51 52 53 54 55 56 57 58 59 60 61 62 63 64 65 66 67 68 69 70 71 72 73 74 75 76 77 78 79 80 81 82 83 84 85 86 87 88 89 90 91 92 93 94 95 96 97 98 99 100 101 102 103 104 105 106 107 108 109 110 111 112 113 114 115 116 117 118 119 120 121 122 123 124 125 126 127 128 129 130 131 132 133 134 135 136 137 138 139 140 141 142 143 144 145 146 147 148 149 150 151 152 153 154 155 156 157 158 159 160 161 162 163 164 165 166 167 168 169 170 171 172 173 174 175 176 177 178 179 180 181 182 183 184 185 186 187 188 189 190 191 192 193 194 195 196 197 198 199 200 201 202 203 204 205 206 207 208 209 210 211 212 213 214 215 216 217 218 219 220 221 222 223 224 225 226 227 228 229 230 231 232 233 234 235 236 237 238 239 240 241 242 243 244 245 246 247 248 249 250 251 252 253 254 255 256 257 258 259 260 261 262 263 264 265 266 267 268 269 270 271 272 273 274 275 276 277 278 279 280 281 282 283 284 285 286 287 288 289 290 291 292 293 294 295 296 297 298 299 300 301 302 303 304 305 306 307 308 309 310 311 312 313 314 315 316 317 318 319 320 321 322 323 324 325 326 327 328 329 330 331 332 333 334 335 336 337 338 339 340 341 342 343 344 345 346 347 348 349 350 351 352 353 354 355 356 357 358 359 360 361 362 363 364 365 366 367 368 369 370 371 "
     ]
    }
   ],
   "source": [
    "list_lvl3_distr_full_2h = []\n",
    "\n",
    "start_time = datetime.datetime(2017, 8, 1, 0, 0, 0)\n",
    "delta = datetime.timedelta(hours=2)\n",
    "\n",
    "cur_time = 0\n",
    "oopp = 0\n",
    "while start_time + delta < datetime.datetime(2017, 9, 1, 0, 0, 0):\n",
    "    oopp += 1\n",
    "#     print(start_time)\n",
    "    cursor = docs.find({\"rss_pubDate\" : {'$gt' : start_time, '$lt' : start_time + delta}})\n",
    "    \n",
    "    pipeline = [\n",
    "    {'$match' : {\"rss_pubDate\" : {'$gt' : start_time, '$lt' : start_time + delta}}},\n",
    "    {'$project' : {'topiclvl' : {'$arrayElemAt' : [\"$topics\", 0]}}},\n",
    "    {'$group' : {'_id' : '$topiclvl.lvl3.id', 'counted' : {'$sum' : 1}}}\n",
    "    ]\n",
    "    lvl3_sub_cursor = list(docs.aggregate(pipeline=pipeline))\n",
    "    list_lvl3_distr_full_2h.append(lvl3_sub_cursor)\n",
    "    start_time += delta\n",
    "    cur_time += 1\n",
    "    print(cur_time, end=' ')\n",
    "    "
   ]
  },
  {
   "cell_type": "code",
   "execution_count": 73,
   "metadata": {},
   "outputs": [
    {
     "name": "stdout",
     "output_type": "stream",
     "text": [
      "1 2 3 4 5 6 7 8 9 10 11 12 13 14 15 16 17 18 19 20 21 22 23 24 25 26 27 28 29 30 31 32 33 34 35 36 37 38 39 40 41 42 43 44 45 46 47 48 49 50 51 52 53 54 55 56 57 58 59 60 61 62 63 64 65 66 67 68 69 70 71 72 73 74 75 76 77 78 79 80 81 82 83 84 85 86 87 88 89 90 91 92 93 94 95 96 97 98 99 100 101 102 103 104 105 106 107 108 109 110 111 112 113 114 115 116 117 118 119 120 121 122 123 124 125 126 127 128 129 130 131 132 133 134 135 136 137 138 139 140 141 142 143 144 145 146 147 148 149 150 151 152 153 154 155 156 157 158 159 160 161 162 163 164 165 166 167 168 169 170 171 172 173 174 175 176 177 178 179 180 181 182 183 184 185 186 187 188 189 190 191 192 193 194 195 196 197 198 199 200 201 202 203 204 205 206 207 208 209 210 211 212 213 214 215 216 217 218 219 220 221 222 223 224 225 226 227 228 229 230 231 232 233 234 235 236 237 238 239 240 241 242 243 244 245 246 247 248 249 250 251 252 253 254 255 256 257 258 259 260 261 262 263 264 265 266 267 268 269 270 271 272 273 274 275 276 277 278 279 280 281 282 283 284 285 286 287 288 289 290 291 292 293 294 295 296 297 298 299 300 301 302 303 304 305 306 307 308 309 310 311 312 313 314 315 316 317 318 319 320 321 322 323 324 325 326 327 328 329 330 331 332 333 334 335 336 337 338 339 340 341 342 343 344 345 346 347 348 349 350 351 352 353 354 355 356 357 358 359 360 361 362 363 364 365 366 367 368 369 370 371 "
     ]
    }
   ],
   "source": [
    "dict_lvl3_distr_full_2h = {}\n",
    "\n",
    "i = 0\n",
    "for x in list_lvl3_distr_full_2h:\n",
    "    i += 1\n",
    "    print(i, end=' ')\n",
    "    for y in x:\n",
    "        if y['_id'] in dict_lvl3_distr_full_2h:\n",
    "            dict_lvl3_distr_full_2h[y['_id']] += 1\n",
    "        else:\n",
    "            dict_lvl3_distr_full_2h[y['_id']] = 1\n"
   ]
  },
  {
   "cell_type": "code",
   "execution_count": 70,
   "metadata": {
    "collapsed": true
   },
   "outputs": [],
   "source": []
  },
  {
   "cell_type": "code",
   "execution_count": 71,
   "metadata": {},
   "outputs": [
    {
     "data": {
      "text/plain": [
       "1223471"
      ]
     },
     "execution_count": 71,
     "metadata": {},
     "output_type": "execute_result"
    }
   ],
   "source": [
    "TOTAL_LVL3_TOPICS = 1223471 #len(dict_lvl3_distr_full_2h)\n",
    "TOTAL_LVL3_TOPICS"
   ]
  },
  {
   "cell_type": "code",
   "execution_count": 74,
   "metadata": {},
   "outputs": [],
   "source": [
    "goodlist_lvl3_distr_full_2h_keys, goodlist_lvl3_distr_full_2h_values = zip(*dict_lvl3_distr_full_2h.items())\n",
    "goodlist_lvl3_distr_full_2h_keys = list(goodlist_lvl3_distr_full_2h_keys)\n",
    "goodlist_lvl3_distr_full_2h_values = list(goodlist_lvl3_distr_full_2h_values)"
   ]
  },
  {
   "cell_type": "code",
   "execution_count": 52,
   "metadata": {
    "collapsed": true
   },
   "outputs": [],
   "source": []
  },
  {
   "cell_type": "code",
   "execution_count": 58,
   "metadata": {},
   "outputs": [
    {
     "data": {
      "text/plain": [
       "[1, 1, 1, 1, 1]"
      ]
     },
     "execution_count": 58,
     "metadata": {},
     "output_type": "execute_result"
    }
   ],
   "source": [
    "list(sorted(goodlist_lvl3_distr_full_2h_values))[:5]"
   ]
  },
  {
   "cell_type": "code",
   "execution_count": 68,
   "metadata": {},
   "outputs": [
    {
     "data": {
      "image/png": "[encoded data removed]",
      "text/plain": [
       "<matplotlib.figure.Figure at 0x7fc28d16a908>"
      ]
     },
     "metadata": {},
     "output_type": "display_data"
    },
    {
     "data": {
      "image/png": "[encoded data removed]",
      "text/plain": [
       "<matplotlib.figure.Figure at 0x7fc28d018780>"
      ]
     },
     "metadata": {},
     "output_type": "display_data"
    }
   ],
   "source": [
    "plt.figure(figsize=(12, 12))\n",
    "plt.plot(list(sorted(goodlist_lvl3_distr_full_2h_values)))\n",
    "plt.grid()\n",
    "plt.show()\n",
    "\n",
    "plt.figure(figsize=(12, 12))\n",
    "plt.plot(list(sorted(goodlist_lvl3_distr_full_2h_values))[-500:])\n",
    "plt.grid()\n",
    "plt.show()"
   ]
  },
  {
   "cell_type": "code",
   "execution_count": 69,
   "metadata": {
    "collapsed": true
   },
   "outputs": [],
   "source": [
    "pd.DataFrame({'topic': goodlist_lvl3_distr_full_2h_keys, 'count' : goodlist_lvl3_distr_full_2h_values}).to_csv('./retro/lvl3_dstr_total.csv')"
   ]
  },
  {
   "cell_type": "markdown",
   "metadata": {},
   "source": [
    "### to csr_matrix"
   ]
  },
  {
   "cell_type": "code",
   "execution_count": 108,
   "metadata": {
    "collapsed": true
   },
   "outputs": [],
   "source": [
    "vect_lvl3_distr_full_2h_keys = {}\n",
    "it = 0\n",
    "for x in goodlist_lvl3_distr_full_2h_keys:\n",
    "    vect_lvl3_distr_full_2h_keys[x] = it\n",
    "    it += 1"
   ]
  },
  {
   "cell_type": "code",
   "execution_count": 117,
   "metadata": {},
   "outputs": [
    {
     "data": {
      "text/plain": [
       "(371, 1223471)"
      ]
     },
     "execution_count": 117,
     "metadata": {},
     "output_type": "execute_result"
    }
   ],
   "source": [
    "csr_lvl3_distr_full_2h = csr_matrix((len(list_lvl3_distr_full_2h), TOTAL_LVL3_TOPICS), dtype=np.int8).toarray()\n",
    "csr_lvl3_distr_full_2h.shape"
   ]
  },
  {
   "cell_type": "code",
   "execution_count": 118,
   "metadata": {},
   "outputs": [
    {
     "data": {
      "text/plain": [
       "numpy.ndarray"
      ]
     },
     "execution_count": 118,
     "metadata": {},
     "output_type": "execute_result"
    }
   ],
   "source": [
    "type(csr_lvl3_distr_full_2h)"
   ]
  },
  {
   "cell_type": "code",
   "execution_count": 119,
   "metadata": {},
   "outputs": [
    {
     "name": "stdout",
     "output_type": "stream",
     "text": [
      "0 1 2 3 4 5 6 7 8 9 10 11 12 13 14 15 16 17 18 19 20 21 22 23 24 25 26 27 28 29 30 31 32 33 34 35 36 37 38 39 40 41 42 43 44 45 46 47 48 49 50 51 52 53 54 55 56 57 58 59 60 61 62 63 64 65 66 67 68 69 70 71 72 73 74 75 76 77 78 79 80 81 82 83 84 85 86 87 88 89 90 91 92 93 94 95 96 97 98 99 100 101 102 103 104 105 106 107 108 109 110 111 112 113 114 115 116 117 118 119 120 121 122 123 124 125 126 127 128 129 130 131 132 133 134 135 136 137 138 139 140 141 142 143 144 145 146 147 148 149 150 151 152 153 154 155 156 157 158 159 160 161 162 163 164 165 166 167 168 169 170 171 172 173 174 175 176 177 178 179 180 181 182 183 184 185 186 187 188 189 190 191 192 193 194 195 196 197 198 199 200 201 202 203 204 205 206 207 208 209 210 211 212 213 214 215 216 217 218 219 220 221 222 223 224 225 226 227 228 229 230 231 232 233 234 235 236 237 238 239 240 241 242 243 244 245 246 247 248 249 250 251 252 253 254 255 256 257 258 259 260 261 262 263 264 265 266 267 268 269 270 271 272 273 274 275 276 277 278 279 280 281 282 283 284 285 286 287 288 289 290 291 292 293 294 295 296 297 298 299 300 301 302 303 304 305 306 307 308 309 310 311 312 313 314 315 316 317 318 319 320 321 322 323 324 325 326 327 328 329 330 331 332 333 334 335 336 337 338 339 340 341 342 343 344 345 346 347 348 349 350 351 352 353 354 355 356 357 358 359 360 361 362 363 364 365 366 367 368 369 370 "
     ]
    }
   ],
   "source": [
    "i = 0\n",
    "for x in list_lvl3_distr_full_2h:\n",
    "    print(i, end=' ')\n",
    "    for y in x:\n",
    "        csr_lvl3_distr_full_2h[i, vect_lvl3_distr_full_2h_keys[y['_id']]] = y['counted']\n",
    "    i += 1"
   ]
  },
  {
   "cell_type": "code",
   "execution_count": 135,
   "metadata": {},
   "outputs": [
    {
     "data": {
      "text/plain": [
       "261"
      ]
     },
     "execution_count": 135,
     "metadata": {},
     "output_type": "execute_result"
    }
   ],
   "source": [
    "len(np.argwhere(csr_lvl3_distr_full_2h[1] > 1))"
   ]
  },
  {
   "cell_type": "code",
   "execution_count": null,
   "metadata": {
    "collapsed": true
   },
   "outputs": [],
   "source": []
  },
  {
   "cell_type": "code",
   "execution_count": 113,
   "metadata": {},
   "outputs": [
    {
     "data": {
      "text/plain": [
       "numpy.ndarray"
      ]
     },
     "execution_count": 113,
     "metadata": {},
     "output_type": "execute_result"
    }
   ],
   "source": [
    "type(csr_lvl3_distr_full_2h)"
   ]
  },
  {
   "cell_type": "code",
   "execution_count": 136,
   "metadata": {},
   "outputs": [],
   "source": [
    "from scipy import sparse\n",
    "sA = sparse.csr_matrix(csr_lvl3_distr_full_2h)\n",
    "save_npz('./retro/lvl3_dstr_2h_full_count_sparse.npz', sA)"
   ]
  },
  {
   "cell_type": "markdown",
   "metadata": {},
   "source": [
    "### Не запускать"
   ]
  },
  {
   "cell_type": "code",
   "execution_count": 13,
   "metadata": {
    "collapsed": true
   },
   "outputs": [],
   "source": [
    "list_lvl3_distr_full_2h = [{y['_id'] : y['counted'] for y in x} for x in list_lvl3_distr_full_2h]"
   ]
  },
  {
   "cell_type": "code",
   "execution_count": 14,
   "metadata": {
    "collapsed": true
   },
   "outputs": [],
   "source": [
    "df_lvl3_distr_full_2h = pd.DataFrame(list_lvl3_distr_full_2h).fillna(0)\n",
    "df_lvl3_distr_full_2h.to_csv('./retro/lvl3_dstr_2h_full_count.csv')"
   ]
  },
  {
   "cell_type": "code",
   "execution_count": 15,
   "metadata": {},
   "outputs": [
    {
     "data": {
      "text/html": [
       "<div>\n",
       "<style>\n",
       "    .dataframe thead tr:only-child th {\n",
       "        text-align: right;\n",
       "    }\n",
       "\n",
       "    .dataframe thead th {\n",
       "        text-align: left;\n",
       "    }\n",
       "\n",
       "    .dataframe tbody tr th {\n",
       "        vertical-align: top;\n",
       "    }\n",
       "</style>\n",
       "<table border=\"1\" class=\"dataframe\">\n",
       "  <thead>\n",
       "    <tr style=\"text-align: right;\">\n",
       "      <th></th>\n",
       "      <th>154562</th>\n",
       "      <th>157557</th>\n",
       "      <th>157558</th>\n",
       "      <th>157597</th>\n",
       "      <th>157647</th>\n",
       "      <th>157675</th>\n",
       "      <th>157680</th>\n",
       "      <th>157683</th>\n",
       "      <th>157687</th>\n",
       "      <th>157694</th>\n",
       "      <th>...</th>\n",
       "      <th>2066673</th>\n",
       "      <th>2066675</th>\n",
       "      <th>82313575</th>\n",
       "      <th>82319770</th>\n",
       "      <th>2066682</th>\n",
       "      <th>176305</th>\n",
       "      <th>2066683</th>\n",
       "      <th>176269</th>\n",
       "      <th>2066688</th>\n",
       "      <th>176281</th>\n",
       "    </tr>\n",
       "  </thead>\n",
       "  <tbody>\n",
       "    <tr>\n",
       "      <th>0</th>\n",
       "      <td>5.0</td>\n",
       "      <td>1.0</td>\n",
       "      <td>1.0</td>\n",
       "      <td>5.0</td>\n",
       "      <td>2.0</td>\n",
       "      <td>2.0</td>\n",
       "      <td>4.0</td>\n",
       "      <td>2.0</td>\n",
       "      <td>2.0</td>\n",
       "      <td>3.0</td>\n",
       "      <td>...</td>\n",
       "      <td>0.0</td>\n",
       "      <td>0.0</td>\n",
       "      <td>0.0</td>\n",
       "      <td>0.0</td>\n",
       "      <td>0.0</td>\n",
       "      <td>0.0</td>\n",
       "      <td>0.0</td>\n",
       "      <td>0.0</td>\n",
       "      <td>0.0</td>\n",
       "      <td>0.0</td>\n",
       "    </tr>\n",
       "    <tr>\n",
       "      <th>1</th>\n",
       "      <td>0.0</td>\n",
       "      <td>0.0</td>\n",
       "      <td>0.0</td>\n",
       "      <td>1.0</td>\n",
       "      <td>0.0</td>\n",
       "      <td>0.0</td>\n",
       "      <td>0.0</td>\n",
       "      <td>2.0</td>\n",
       "      <td>0.0</td>\n",
       "      <td>0.0</td>\n",
       "      <td>...</td>\n",
       "      <td>0.0</td>\n",
       "      <td>0.0</td>\n",
       "      <td>0.0</td>\n",
       "      <td>0.0</td>\n",
       "      <td>0.0</td>\n",
       "      <td>0.0</td>\n",
       "      <td>0.0</td>\n",
       "      <td>0.0</td>\n",
       "      <td>0.0</td>\n",
       "      <td>0.0</td>\n",
       "    </tr>\n",
       "    <tr>\n",
       "      <th>2</th>\n",
       "      <td>3.0</td>\n",
       "      <td>0.0</td>\n",
       "      <td>0.0</td>\n",
       "      <td>0.0</td>\n",
       "      <td>0.0</td>\n",
       "      <td>2.0</td>\n",
       "      <td>0.0</td>\n",
       "      <td>0.0</td>\n",
       "      <td>0.0</td>\n",
       "      <td>0.0</td>\n",
       "      <td>...</td>\n",
       "      <td>0.0</td>\n",
       "      <td>0.0</td>\n",
       "      <td>0.0</td>\n",
       "      <td>0.0</td>\n",
       "      <td>0.0</td>\n",
       "      <td>0.0</td>\n",
       "      <td>0.0</td>\n",
       "      <td>0.0</td>\n",
       "      <td>0.0</td>\n",
       "      <td>0.0</td>\n",
       "    </tr>\n",
       "    <tr>\n",
       "      <th>3</th>\n",
       "      <td>1.0</td>\n",
       "      <td>0.0</td>\n",
       "      <td>0.0</td>\n",
       "      <td>0.0</td>\n",
       "      <td>0.0</td>\n",
       "      <td>2.0</td>\n",
       "      <td>0.0</td>\n",
       "      <td>1.0</td>\n",
       "      <td>0.0</td>\n",
       "      <td>0.0</td>\n",
       "      <td>...</td>\n",
       "      <td>0.0</td>\n",
       "      <td>0.0</td>\n",
       "      <td>0.0</td>\n",
       "      <td>0.0</td>\n",
       "      <td>0.0</td>\n",
       "      <td>0.0</td>\n",
       "      <td>0.0</td>\n",
       "      <td>0.0</td>\n",
       "      <td>0.0</td>\n",
       "      <td>0.0</td>\n",
       "    </tr>\n",
       "    <tr>\n",
       "      <th>4</th>\n",
       "      <td>1.0</td>\n",
       "      <td>0.0</td>\n",
       "      <td>0.0</td>\n",
       "      <td>0.0</td>\n",
       "      <td>0.0</td>\n",
       "      <td>0.0</td>\n",
       "      <td>0.0</td>\n",
       "      <td>0.0</td>\n",
       "      <td>0.0</td>\n",
       "      <td>0.0</td>\n",
       "      <td>...</td>\n",
       "      <td>0.0</td>\n",
       "      <td>0.0</td>\n",
       "      <td>0.0</td>\n",
       "      <td>0.0</td>\n",
       "      <td>0.0</td>\n",
       "      <td>0.0</td>\n",
       "      <td>0.0</td>\n",
       "      <td>0.0</td>\n",
       "      <td>0.0</td>\n",
       "      <td>0.0</td>\n",
       "    </tr>\n",
       "  </tbody>\n",
       "</table>\n",
       "<p>5 rows × 102868 columns</p>\n",
       "</div>"
      ],
      "text/plain": [
       "   154562    157557    157558    157597    157647    157675    157680    \\\n",
       "0       5.0       1.0       1.0       5.0       2.0       2.0       4.0   \n",
       "1       0.0       0.0       0.0       1.0       0.0       0.0       0.0   \n",
       "2       3.0       0.0       0.0       0.0       0.0       2.0       0.0   \n",
       "3       1.0       0.0       0.0       0.0       0.0       2.0       0.0   \n",
       "4       1.0       0.0       0.0       0.0       0.0       0.0       0.0   \n",
       "\n",
       "   157683    157687    157694      ...     2066673   2066675   82313575  \\\n",
       "0       2.0       2.0       3.0    ...          0.0       0.0       0.0   \n",
       "1       2.0       0.0       0.0    ...          0.0       0.0       0.0   \n",
       "2       0.0       0.0       0.0    ...          0.0       0.0       0.0   \n",
       "3       1.0       0.0       0.0    ...          0.0       0.0       0.0   \n",
       "4       0.0       0.0       0.0    ...          0.0       0.0       0.0   \n",
       "\n",
       "   82319770  2066682   176305    2066683   176269    2066688   176281    \n",
       "0       0.0       0.0       0.0       0.0       0.0       0.0       0.0  \n",
       "1       0.0       0.0       0.0       0.0       0.0       0.0       0.0  \n",
       "2       0.0       0.0       0.0       0.0       0.0       0.0       0.0  \n",
       "3       0.0       0.0       0.0       0.0       0.0       0.0       0.0  \n",
       "4       0.0       0.0       0.0       0.0       0.0       0.0       0.0  \n",
       "\n",
       "[5 rows x 102868 columns]"
      ]
     },
     "execution_count": 15,
     "metadata": {},
     "output_type": "execute_result"
    }
   ],
   "source": [
    "df_lvl3_distr_full_2h.head()"
   ]
  },
  {
   "cell_type": "code",
   "execution_count": 18,
   "metadata": {},
   "outputs": [
    {
     "name": "stdout",
     "output_type": "stream",
     "text": [
      "167616.0 of 2060904\n"
     ]
    }
   ],
   "source": [
    "print(df_lvl3_distr_full_2h.values.sum(axis=None), 'of', TOTAL_DOCUMENTS)"
   ]
  }
 ],
 "metadata": {
  "kernelspec": {
   "display_name": "Python 3",
   "language": "python",
   "name": "python3"
  },
  "language_info": {
   "codemirror_mode": {
    "name": "ipython",
    "version": 3
   },
   "file_extension": ".py",
   "mimetype": "text/x-python",
   "name": "python",
   "nbconvert_exporter": "python",
   "pygments_lexer": "ipython3",
   "version": "3.6.3"
  }
 },
 "nbformat": 4,
 "nbformat_minor": 2
}
