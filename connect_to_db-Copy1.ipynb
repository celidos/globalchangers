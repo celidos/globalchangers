{
 "cells": [
  {
   "cell_type": "code",
   "execution_count": 19,
   "metadata": {},
   "outputs": [],
   "source": [
    "import pymongo as pmn\n",
    "from sshtunnel import SSHTunnelForwarder\n",
    "import pprint\n",
    "import datetime\n",
    "import pandas as pd\n",
    "from tqdm import tqdm_notebook\n",
    "import numpy as np"
   ]
  },
  {
   "cell_type": "code",
   "execution_count": 20,
   "metadata": {},
   "outputs": [],
   "source": [
    "MONGO_HOST = \"10.2.81.40\"\n",
    "MONGO_DB = \"VectorX_DWH\"\n",
    "MONGO_PORT = 65372"
   ]
  },
  {
   "cell_type": "code",
   "execution_count": 21,
   "metadata": {
    "scrolled": false
   },
   "outputs": [
    {
     "name": "stdout",
     "output_type": "stream",
     "text": [
      "['documents', 'topic_by_date']\n"
     ]
    }
   ],
   "source": [
    "server = SSHTunnelForwarder(\n",
    "    ssh_address_or_host=(\"10.2.81.40\"),\n",
    "    ssh_username=\"mmartinson\",\n",
    "    ssh_password=\"hyklapy\",\n",
    "    remote_bind_address=('127.0.0.1', 27017),\n",
    ")\n",
    "\n",
    "server.start()\n",
    "\n",
    "client = pmn.MongoClient('127.0.0.1', server.local_bind_port) # server.local_bind_port is assigned local port\n",
    "db = client[MONGO_DB]\n",
    "pprint.pprint(db.collection_names())\n",
    "server.stop()"
   ]
  },
  {
   "cell_type": "code",
   "execution_count": 17,
   "metadata": {},
   "outputs": [],
   "source": [
    "server.stop()"
   ]
  },
  {
   "cell_type": "code",
   "execution_count": 22,
   "metadata": {},
   "outputs": [
    {
     "name": "stderr",
     "output_type": "stream",
     "text": [
      "2018-03-16 17:45:52,653| ERROR   | Could not establish connection from ('127.0.0.1', 43528) to remote side of the tunnel\n"
     ]
    }
   ],
   "source": [
    "server.start()\n",
    "client = pmn.MongoClient('127.0.0.1', server.local_bind_port) # server.local_bind_port is assigned local port\n",
    "db = client[MONGO_DB]"
   ]
  },
  {
   "cell_type": "code",
   "execution_count": 6,
   "metadata": {},
   "outputs": [
    {
     "name": "stderr",
     "output_type": "stream",
     "text": [
      "\n",
      "0it [00:00, ?it/s]\u001b[A\n",
      "723it [00:40, 18.06it/s]A\n",
      "102it [00:12,  7.95it/s]\u001b[A\n",
      "427it [00:12, 33.02it/s]\u001b[A\n",
      "671it [00:13, 51.47it/s]\u001b[A\n",
      "813it [00:17, 45.24it/s]\u001b[A\n",
      "1000it [00:18, 55.53it/s]\u001b[A"
     ]
    }
   ],
   "source": [
    "lvl1_names = set()\n",
    "cursor = db.documents.find({}).limit(1000)\n",
    "for i, row in tqdm(enumerate(cursor)):\n",
    "    if len(row['topics']) > 0:\n",
    "        lvl1_names.add(row['topics'][0]['lvl1']['id'])\n"
   ]
  },
  {
   "cell_type": "code",
   "execution_count": 7,
   "metadata": {
    "scrolled": true
   },
   "outputs": [
    {
     "data": {
      "text/plain": [
       "{'lvl1_бизнес',\n",
       " 'lvl1_культура',\n",
       " 'lvl1_медиа',\n",
       " 'lvl1_наука_и_техника',\n",
       " 'lvl1_общество_и_путешествия',\n",
       " 'lvl1_политика',\n",
       " 'lvl1_происшествия',\n",
       " 'lvl1_силовые_структуры',\n",
       " 'lvl1_спорт',\n",
       " 'lvl1_экономика_и_финансы'}"
      ]
     },
     "execution_count": 7,
     "metadata": {},
     "output_type": "execute_result"
    }
   ],
   "source": [
    "lvl1_names"
   ]
  },
  {
   "cell_type": "code",
   "execution_count": 8,
   "metadata": {},
   "outputs": [
    {
     "data": {
      "text/html": [
       "<div>\n",
       "<style scoped>\n",
       "    .dataframe tbody tr th:only-of-type {\n",
       "        vertical-align: middle;\n",
       "    }\n",
       "\n",
       "    .dataframe tbody tr th {\n",
       "        vertical-align: top;\n",
       "    }\n",
       "\n",
       "    .dataframe thead th {\n",
       "        text-align: right;\n",
       "    }\n",
       "</style>\n",
       "<table border=\"1\" class=\"dataframe\">\n",
       "  <thead>\n",
       "    <tr style=\"text-align: right;\">\n",
       "      <th></th>\n",
       "      <th>lvl1_общество_и_путешествия</th>\n",
       "      <th>lvl1_экономика_и_финансы</th>\n",
       "      <th>lvl1_бизнес</th>\n",
       "      <th>lvl1_силовые_структуры</th>\n",
       "      <th>lvl1_наука_и_техника</th>\n",
       "      <th>lvl1_спорт</th>\n",
       "      <th>lvl1_медиа</th>\n",
       "      <th>lvl1_политика</th>\n",
       "      <th>lvl1_происшествия</th>\n",
       "      <th>lvl1_культура</th>\n",
       "    </tr>\n",
       "  </thead>\n",
       "  <tbody>\n",
       "    <tr>\n",
       "      <th>0</th>\n",
       "      <td>0</td>\n",
       "      <td>0</td>\n",
       "      <td>0</td>\n",
       "      <td>0</td>\n",
       "      <td>0</td>\n",
       "      <td>0</td>\n",
       "      <td>0</td>\n",
       "      <td>0</td>\n",
       "      <td>0</td>\n",
       "      <td>0</td>\n",
       "    </tr>\n",
       "  </tbody>\n",
       "</table>\n",
       "</div>"
      ],
      "text/plain": [
       "  lvl1_общество_и_путешествия lvl1_экономика_и_финансы lvl1_бизнес  \\\n",
       "0                           0                        0           0   \n",
       "\n",
       "  lvl1_силовые_структуры lvl1_наука_и_техника lvl1_спорт lvl1_медиа  \\\n",
       "0                      0                    0          0          0   \n",
       "\n",
       "  lvl1_политика lvl1_происшествия lvl1_культура  \n",
       "0             0                 0             0  "
      ]
     },
     "execution_count": 8,
     "metadata": {},
     "output_type": "execute_result"
    }
   ],
   "source": [
    "lvl1 = pd.DataFrame(columns=list(lvl1_names))\n",
    "cur_time = datetime.datetime(2017, 8, 1, 0, 0, 0)\n",
    "delta = datetime.timedelta(hours=1)\n",
    "defoult_nicht = {\n",
    "  'lvl1_бизнес' : 0,\n",
    " 'lvl1_культура' : 0,\n",
    " 'lvl1_медиа' : 0,\n",
    " 'lvl1_наука_и_техника' : 0,\n",
    " 'lvl1_общество_и_путешествия' : 0,\n",
    " 'lvl1_политика' : 0,\n",
    " 'lvl1_происшествия' : 0,\n",
    " 'lvl1_силовые_структуры' : 0,\n",
    " 'lvl1_спорт' : 0,\n",
    " 'lvl1_экономика_и_финансы' : 0}\n",
    "lvl1 = lvl1.append(defoult_nicht, ignore_index=True)\n",
    "lvl1"
   ]
  },
  {
   "cell_type": "code",
   "execution_count": 9,
   "metadata": {
    "scrolled": false
   },
   "outputs": [
    {
     "ename": "IndexError",
     "evalue": "Cursor instances do not support slice steps",
     "output_type": "error",
     "traceback": [
      "\u001b[0;31m---------------------------------------------------------------------------\u001b[0m",
      "\u001b[0;31mIndexError\u001b[0m                                Traceback (most recent call last)",
      "\u001b[0;32m<ipython-input-9-12a90f620d41>\u001b[0m in \u001b[0;36m<module>\u001b[0;34m()\u001b[0m\n\u001b[0;32m----> 1\u001b[0;31m \u001b[0mcursor\u001b[0m \u001b[0;34m=\u001b[0m \u001b[0mdb\u001b[0m\u001b[0;34m.\u001b[0m\u001b[0mdocuments\u001b[0m\u001b[0;34m.\u001b[0m\u001b[0mfind\u001b[0m\u001b[0;34m(\u001b[0m\u001b[0;34m{\u001b[0m\u001b[0;34m}\u001b[0m\u001b[0;34m)\u001b[0m\u001b[0;34m[\u001b[0m\u001b[0;34m:\u001b[0m\u001b[0;34m:\u001b[0m\u001b[0;36m50\u001b[0m\u001b[0;34m]\u001b[0m\u001b[0;34m\u001b[0m\u001b[0m\n\u001b[0m\u001b[1;32m      2\u001b[0m \u001b[0;32mfor\u001b[0m \u001b[0mrow\u001b[0m \u001b[0;32min\u001b[0m \u001b[0mtqdm\u001b[0m\u001b[0;34m(\u001b[0m\u001b[0mcursor\u001b[0m\u001b[0;34m)\u001b[0m\u001b[0;34m:\u001b[0m\u001b[0;34m\u001b[0m\u001b[0m\n\u001b[1;32m      3\u001b[0m     \u001b[0;32mif\u001b[0m \u001b[0;34m(\u001b[0m\u001b[0mrow\u001b[0m\u001b[0;34m[\u001b[0m\u001b[0;34m'rss_pubDate'\u001b[0m\u001b[0;34m]\u001b[0m \u001b[0;34m>\u001b[0m \u001b[0mcur_time\u001b[0m \u001b[0;34m+\u001b[0m \u001b[0mdelta\u001b[0m\u001b[0;34m)\u001b[0m\u001b[0;34m:\u001b[0m\u001b[0;34m\u001b[0m\u001b[0m\n\u001b[1;32m      4\u001b[0m         \u001b[0mcur_time\u001b[0m \u001b[0;34m=\u001b[0m \u001b[0mcur_time\u001b[0m \u001b[0;34m+\u001b[0m \u001b[0mdelta\u001b[0m\u001b[0;34m\u001b[0m\u001b[0m\n\u001b[1;32m      5\u001b[0m         \u001b[0;31m#lvl1.iloc[-1] /= sum(lvl1.iloc[-1])\u001b[0m\u001b[0;34m\u001b[0m\u001b[0;34m\u001b[0m\u001b[0m\n",
      "\u001b[0;32m~/environments/virt-env-DS/lib/python3.6/site-packages/pymongo/cursor.py\u001b[0m in \u001b[0;36m__getitem__\u001b[0;34m(self, index)\u001b[0m\n\u001b[1;32m    578\u001b[0m         \u001b[0;32mif\u001b[0m \u001b[0misinstance\u001b[0m\u001b[0;34m(\u001b[0m\u001b[0mindex\u001b[0m\u001b[0;34m,\u001b[0m \u001b[0mslice\u001b[0m\u001b[0;34m)\u001b[0m\u001b[0;34m:\u001b[0m\u001b[0;34m\u001b[0m\u001b[0m\n\u001b[1;32m    579\u001b[0m             \u001b[0;32mif\u001b[0m \u001b[0mindex\u001b[0m\u001b[0;34m.\u001b[0m\u001b[0mstep\u001b[0m \u001b[0;32mis\u001b[0m \u001b[0;32mnot\u001b[0m \u001b[0;32mNone\u001b[0m\u001b[0;34m:\u001b[0m\u001b[0;34m\u001b[0m\u001b[0m\n\u001b[0;32m--> 580\u001b[0;31m                 \u001b[0;32mraise\u001b[0m \u001b[0mIndexError\u001b[0m\u001b[0;34m(\u001b[0m\u001b[0;34m\"Cursor instances do not support slice steps\"\u001b[0m\u001b[0;34m)\u001b[0m\u001b[0;34m\u001b[0m\u001b[0m\n\u001b[0m\u001b[1;32m    581\u001b[0m \u001b[0;34m\u001b[0m\u001b[0m\n\u001b[1;32m    582\u001b[0m             \u001b[0mskip\u001b[0m \u001b[0;34m=\u001b[0m \u001b[0;36m0\u001b[0m\u001b[0;34m\u001b[0m\u001b[0m\n",
      "\u001b[0;31mIndexError\u001b[0m: Cursor instances do not support slice steps"
     ]
    }
   ],
   "source": [
    "cursor = db.documents.find({})\n",
    "for row in tqdm(cursor):\n",
    "    if (row['rss_pubDate'] > cur_time + delta):\n",
    "        cur_time = cur_time + delta\n",
    "        #lvl1.iloc[-1] /= sum(lvl1.iloc[-1])\n",
    "        lvl1 = lvl1.append(defoult_nicht, ignore_index=True)\n",
    "\n",
    "    if len(row['topics']) <= 0:\n",
    "        continue\n",
    "        \n",
    "    lvl1.iloc[-1][row['topics'][0]['lvl1']['id']] += row['topics'][0]['probability']"
   ]
  },
  {
   "cell_type": "code",
   "execution_count": null,
   "metadata": {},
   "outputs": [
    {
     "name": "stdout",
     "output_type": "stream",
     "text": [
      "1 2 3 4 5 6 7 8 9 10 11 12 13 14 15 16 17 18 19 20 21 22 23 24 25 26 27 28 29 30 31 32 33 34 35 36 37 38 39 40 41 42 43 44 "
     ]
    }
   ],
   "source": [
    "lvl3_art_word = pd.DataFrame()\n",
    "\n",
    "start_time = datetime.datetime(2017, 8, 1, 0, 0, 0)\n",
    "delta = datetime.timedelta(hours=2)\n",
    "\n",
    "cur_time = 0\n",
    "while start_time + delta < datetime.datetime(2017, 9, 1, 0, 0, 0):\n",
    "    cursor = db.documents.find({\"rss_pubDate\" : {'$gt' : start_time, '$lt' : start_time + delta}}).limit(100)\n",
    "    \n",
    "    for row in cursor:\n",
    "        if len(row['topics']) > 0:\n",
    "            if len(row['topics'][0]['lvl3']['distribution']) >= 3:\n",
    "                lvl3_art_word.append(row['topics'][0]['lvl3'], ignore_index=True)\n",
    "    start_time += delta\n",
    "    cur_time += 1\n",
    "    print(cur_time, end=' ')"
   ]
  },
  {
   "cell_type": "code",
   "execution_count": 33,
   "metadata": {},
   "outputs": [
    {
     "name": "stdout",
     "output_type": "stream",
     "text": [
      "85.55263157894737 0 96\n",
      "(342,)\n"
     ]
    }
   ],
   "source": [
    "num = np.array(num)\n",
    "\n",
    "print(num.mean(), num.min(), num.max())\n",
    "\n",
    "print(num.shape)"
   ]
  },
  {
   "cell_type": "code",
   "execution_count": null,
   "metadata": {},
   "outputs": [],
   "source": [
    "distr = pd.DataFrame()\n",
    "start_time = datetime.datetime(2017, 8, 1, 0, 0, 0)\n",
    "delta = datetime.timedelta(hours=2)\n",
    "\n",
    "while start_time + delta < datetime.datetime(2017, 9, 1, 0, 0, 0):\n",
    "    \n",
    "    #cursor = db.documents.find({\"rss_pubDate\" : {'$gt' : start_time, '$lt' : start_time + delta}}).limit(100)\n",
    "    cursor = db.documents.aggregate([ {\"$group\" : {\"\"}, \"$count\" : \"number\"}])\n",
    "    num.append(0)\n",
    "    \n",
    "    for row in cursor:\n",
    "        \n",
    "        if len(row['topics']) > 0:\n",
    "            if len(row['topics'][0]['lvl1']['distribution']) >= 5:\n",
    "                num[-1] += 1\n",
    "    start_time += delta"
   ]
  },
  {
   "cell_type": "code",
   "execution_count": null,
   "metadata": {},
   "outputs": [],
   "source": []
  }
 ],
 "metadata": {
  "kernelspec": {
   "display_name": "Python 3",
   "language": "python",
   "name": "python3"
  },
  "language_info": {
   "codemirror_mode": {
    "name": "ipython",
    "version": 3
   },
   "file_extension": ".py",
   "mimetype": "text/x-python",
   "name": "python",
   "nbconvert_exporter": "python",
   "pygments_lexer": "ipython3",
   "version": "3.6.3"
  }
 },
 "nbformat": 4,
 "nbformat_minor": 2
}
